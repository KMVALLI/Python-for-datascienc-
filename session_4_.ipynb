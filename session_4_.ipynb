{
  "nbformat": 4,
  "nbformat_minor": 0,
  "metadata": {
    "colab": {
      "provenance": [],
      "authorship_tag": "ABX9TyN/2K1JzeMBp2qRP7h/Uc9h",
      "include_colab_link": true
    },
    "kernelspec": {
      "name": "python3",
      "display_name": "Python 3"
    },
    "language_info": {
      "name": "python"
    }
  },
  "cells": [
    {
      "cell_type": "markdown",
      "metadata": {
        "id": "view-in-github",
        "colab_type": "text"
      },
      "source": [
        "<a href=\"https://colab.research.google.com/github/KMVALLI/Python-for-datascienc-/blob/main/session_4_.ipynb\" target=\"_parent\"><img src=\"https://colab.research.google.com/assets/colab-badge.svg\" alt=\"Open In Colab\"/></a>"
      ]
    },
    {
      "cell_type": "markdown",
      "source": [
        "#flowcontrol "
      ],
      "metadata": {
        "id": "X0gzk2Zveaia"
      }
    },
    {
      "cell_type": "markdown",
      "source": [
        "#if condition"
      ],
      "metadata": {
        "id": "J5InpMlKeak1"
      }
    },
    {
      "cell_type": "code",
      "source": [
        " n =float(input(\"number ?\"))\n",
        " if n >0:\n",
        "    print(\"The absolute value of  \",n ,\"is\",n)\n",
        " else:\n",
        "    print(\"The absolut value of \",n ,\"is \",-n)\n",
        "sumofnum= 50+60\n",
        "print(sumofnum)"
      ],
      "metadata": {
        "colab": {
          "base_uri": "https://localhost:8080/"
        },
        "id": "rc6JALI3eao7",
        "outputId": "53c4c2d9-3183-4ac6-e6bd-5b98a297a242"
      },
      "execution_count": 145,
      "outputs": [
        {
          "output_type": "stream",
          "name": "stdout",
          "text": [
            "number ?25.2\n",
            "The absolute value of   25.2 is 25.2\n",
            "110\n"
          ]
        }
      ]
    },
    {
      "cell_type": "markdown",
      "source": [
        "#elif"
      ],
      "metadata": {
        "id": "x9JLxUREeaq7"
      }
    },
    {
      "cell_type": "code",
      "source": [
        "name = input(\"enter a number \")\n",
        "print(name)\n",
        "if name == \"masthan valli\":\n",
        "  print (\"you entered name is \",name)\n",
        "elif name ==\"valli\" :\n",
        "  print (\"you entered name is \",name)\n",
        "elif name == ali:\n",
        "  print (\"you entered name is \",name)\n",
        "else:\n",
        "  print (\"the name entered is not valid\")\n"
      ],
      "metadata": {
        "colab": {
          "base_uri": "https://localhost:8080/"
        },
        "id": "x8bNWsVhr2di",
        "outputId": "0a8e77eb-5a12-421c-bc9e-85d0e112e747"
      },
      "execution_count": 149,
      "outputs": [
        {
          "output_type": "stream",
          "name": "stdout",
          "text": [
            "enter a number masthan valli\n",
            "masthan valli\n",
            "you entered name is  masthan valli\n"
          ]
        }
      ]
    },
    {
      "cell_type": "code",
      "source": [
        "#python is a case sensitive "
      ],
      "metadata": {
        "id": "qskPFD_HeawW"
      },
      "execution_count": 150,
      "outputs": []
    },
    {
      "cell_type": "markdown",
      "source": [
        "\n",
        "#nestedif"
      ],
      "metadata": {
        "id": "cLKAUDxfea0c"
      }
    },
    {
      "cell_type": "code",
      "source": [
        "name = input(\"enter a name\")\n",
        "name2= input(\"enter what techknowleage \")\n",
        "if name == \"masthan valli\":\n",
        "  print (\"it is avalable in our data\")\n",
        "  if name2 == \"datascience\":\n",
        "    print(\"you are right \")\n",
        "  else:\n",
        "    print(\"this role is not avaliable  please enter what role they are assiened \")\n",
        "else:\n",
        "  print(\"this name is not avalable in our data\")\n",
        "  \n"
      ],
      "metadata": {
        "id": "qKId91gmea2r",
        "colab": {
          "base_uri": "https://localhost:8080/"
        },
        "outputId": "9d3da09a-c0e9-409c-d386-14515befbedb"
      },
      "execution_count": 1,
      "outputs": [
        {
          "output_type": "stream",
          "name": "stdout",
          "text": [
            "enter a namemasthan valli\n",
            "enter what techknowleage datascience\n",
            "it is avalable in our data\n",
            "you are right \n"
          ]
        }
      ]
    },
    {
      "cell_type": "markdown",
      "source": [
        "#loops"
      ],
      "metadata": {
        "id": "QBxILU1iea8K"
      }
    },
    {
      "cell_type": "markdown",
      "source": [
        "#while loop"
      ],
      "metadata": {
        "id": "zBTSou-Xea-Q"
      }
    },
    {
      "cell_type": "code",
      "source": [
        " a = 0\n",
        " while a<5:\n",
        "   print(a,\"first print\")\n",
        "   a=a+1\n",
        "   print(a,\"second print\")"
      ],
      "metadata": {
        "colab": {
          "base_uri": "https://localhost:8080/"
        },
        "id": "3qNqISKp3WSS",
        "outputId": "764419a1-106f-464f-9d62-6224438fbaf7"
      },
      "execution_count": 2,
      "outputs": [
        {
          "output_type": "stream",
          "name": "stdout",
          "text": [
            "0 first print\n",
            "1 second print\n",
            "1 first print\n",
            "2 second print\n",
            "2 first print\n",
            "3 second print\n",
            "3 first print\n",
            "4 second print\n",
            "4 first print\n",
            "5 second print\n"
          ]
        }
      ]
    },
    {
      "cell_type": "code",
      "source": [
        "# if you run the code it will execute contineouselly it wont to stop \n",
        "#becouse hear we are start will 1 it never fals \n",
        "#if you enter the value 0 loop will be exit other wise it will running only untill you enter the value  0 \n",
        "a = 1\n",
        "s = 0\n",
        "\n",
        "print(\"enter 0 to quit \")\n",
        "while a !=0:\n",
        "  print(s)\n",
        "  a=float(input(\"enter a number\"))\n",
        "  s = s+a\n",
        "print(\"total sum = \",s) # this is the major role in this code becouse if you put below s see out put \n",
        "\n",
        "  "
      ],
      "metadata": {
        "id": "ptB8QVWsebAO",
        "colab": {
          "base_uri": "https://localhost:8080/",
          "height": 380
        },
        "outputId": "9d7c2870-4b57-4fda-ab7d-c51d1122fe74"
      },
      "execution_count": 11,
      "outputs": [
        {
          "output_type": "error",
          "ename": "KeyboardInterrupt",
          "evalue": "ignored",
          "traceback": [
            "\u001b[0;31m---------------------------------------------------------------------------\u001b[0m",
            "\u001b[0;31mKeyboardInterrupt\u001b[0m                         Traceback (most recent call last)",
            "\u001b[0;32m<ipython-input-11-c1c5e492ba3c>\u001b[0m in \u001b[0;36m<module>\u001b[0;34m\u001b[0m\n\u001b[1;32m      8\u001b[0m \u001b[0;32mwhile\u001b[0m \u001b[0ma\u001b[0m \u001b[0;34m!=\u001b[0m\u001b[0;36m0\u001b[0m\u001b[0;34m:\u001b[0m\u001b[0;34m\u001b[0m\u001b[0;34m\u001b[0m\u001b[0m\n\u001b[1;32m      9\u001b[0m   \u001b[0mprint\u001b[0m\u001b[0;34m(\u001b[0m\u001b[0ms\u001b[0m\u001b[0;34m)\u001b[0m\u001b[0;34m\u001b[0m\u001b[0;34m\u001b[0m\u001b[0m\n\u001b[0;32m---> 10\u001b[0;31m   \u001b[0ma\u001b[0m\u001b[0;34m=\u001b[0m\u001b[0mfloat\u001b[0m\u001b[0;34m(\u001b[0m\u001b[0minput\u001b[0m\u001b[0;34m(\u001b[0m\u001b[0;34m\"enter a number\"\u001b[0m\u001b[0;34m)\u001b[0m\u001b[0;34m)\u001b[0m\u001b[0;34m\u001b[0m\u001b[0;34m\u001b[0m\u001b[0m\n\u001b[0m\u001b[1;32m     11\u001b[0m   \u001b[0ms\u001b[0m \u001b[0;34m=\u001b[0m \u001b[0ms\u001b[0m\u001b[0;34m+\u001b[0m\u001b[0ma\u001b[0m\u001b[0;34m\u001b[0m\u001b[0;34m\u001b[0m\u001b[0m\n\u001b[1;32m     12\u001b[0m \u001b[0mprint\u001b[0m\u001b[0;34m(\u001b[0m\u001b[0;34m\"total sum = \"\u001b[0m\u001b[0;34m,\u001b[0m\u001b[0ms\u001b[0m\u001b[0;34m)\u001b[0m \u001b[0;31m# this is the major role in this code becouse if you put below s see out put\u001b[0m\u001b[0;34m\u001b[0m\u001b[0;34m\u001b[0m\u001b[0m\n",
            "\u001b[0;32m/usr/local/lib/python3.7/dist-packages/ipykernel/kernelbase.py\u001b[0m in \u001b[0;36mraw_input\u001b[0;34m(self, prompt)\u001b[0m\n\u001b[1;32m    861\u001b[0m             \u001b[0mself\u001b[0m\u001b[0;34m.\u001b[0m\u001b[0m_parent_ident\u001b[0m\u001b[0;34m,\u001b[0m\u001b[0;34m\u001b[0m\u001b[0;34m\u001b[0m\u001b[0m\n\u001b[1;32m    862\u001b[0m             \u001b[0mself\u001b[0m\u001b[0;34m.\u001b[0m\u001b[0m_parent_header\u001b[0m\u001b[0;34m,\u001b[0m\u001b[0;34m\u001b[0m\u001b[0;34m\u001b[0m\u001b[0m\n\u001b[0;32m--> 863\u001b[0;31m             \u001b[0mpassword\u001b[0m\u001b[0;34m=\u001b[0m\u001b[0;32mFalse\u001b[0m\u001b[0;34m,\u001b[0m\u001b[0;34m\u001b[0m\u001b[0;34m\u001b[0m\u001b[0m\n\u001b[0m\u001b[1;32m    864\u001b[0m         )\n\u001b[1;32m    865\u001b[0m \u001b[0;34m\u001b[0m\u001b[0m\n",
            "\u001b[0;32m/usr/local/lib/python3.7/dist-packages/ipykernel/kernelbase.py\u001b[0m in \u001b[0;36m_input_request\u001b[0;34m(self, prompt, ident, parent, password)\u001b[0m\n\u001b[1;32m    902\u001b[0m             \u001b[0;32mexcept\u001b[0m \u001b[0mKeyboardInterrupt\u001b[0m\u001b[0;34m:\u001b[0m\u001b[0;34m\u001b[0m\u001b[0;34m\u001b[0m\u001b[0m\n\u001b[1;32m    903\u001b[0m                 \u001b[0;31m# re-raise KeyboardInterrupt, to truncate traceback\u001b[0m\u001b[0;34m\u001b[0m\u001b[0;34m\u001b[0m\u001b[0;34m\u001b[0m\u001b[0m\n\u001b[0;32m--> 904\u001b[0;31m                 \u001b[0;32mraise\u001b[0m \u001b[0mKeyboardInterrupt\u001b[0m\u001b[0;34m(\u001b[0m\u001b[0;34m\"Interrupted by user\"\u001b[0m\u001b[0;34m)\u001b[0m \u001b[0;32mfrom\u001b[0m \u001b[0;32mNone\u001b[0m\u001b[0;34m\u001b[0m\u001b[0;34m\u001b[0m\u001b[0m\n\u001b[0m\u001b[1;32m    905\u001b[0m             \u001b[0;32mexcept\u001b[0m \u001b[0mException\u001b[0m \u001b[0;32mas\u001b[0m \u001b[0me\u001b[0m\u001b[0;34m:\u001b[0m\u001b[0;34m\u001b[0m\u001b[0;34m\u001b[0m\u001b[0m\n\u001b[1;32m    906\u001b[0m                 \u001b[0mself\u001b[0m\u001b[0;34m.\u001b[0m\u001b[0mlog\u001b[0m\u001b[0;34m.\u001b[0m\u001b[0mwarning\u001b[0m\u001b[0;34m(\u001b[0m\u001b[0;34m\"Invalid Message:\"\u001b[0m\u001b[0;34m,\u001b[0m \u001b[0mexc_info\u001b[0m\u001b[0;34m=\u001b[0m\u001b[0;32mTrue\u001b[0m\u001b[0;34m)\u001b[0m\u001b[0;34m\u001b[0m\u001b[0;34m\u001b[0m\u001b[0m\n",
            "\u001b[0;31mKeyboardInterrupt\u001b[0m: Interrupted by user"
          ]
        }
      ]
    },
    {
      "cell_type": "code",
      "source": [
        "# we can use two condition at\n",
        "a = 1\n",
        "s = 0\n",
        "\n",
        "print(\"enter 0 to quit \")\n",
        "while a !=0 and a!=100:\n",
        "  print(s)\n",
        "  a=float(input(\"enter a number\"))\n",
        "  s = s+a\n",
        "print(\"total sum = \",s)"
      ],
      "metadata": {
        "id": "tHaXOsYeebDx",
        "colab": {
          "base_uri": "https://localhost:8080/"
        },
        "outputId": "063e0b6e-a18e-4464-9125-6314282eb81b"
      },
      "execution_count": 15,
      "outputs": [
        {
          "output_type": "stream",
          "name": "stdout",
          "text": [
            "enter 0 to quit \n",
            "0\n",
            "enter a number100\n",
            "total sum =  100.0\n"
          ]
        }
      ]
    },
    {
      "cell_type": "code",
      "source": [],
      "metadata": {
        "id": "yDmWDFQk_DYY"
      },
      "execution_count": 15,
      "outputs": []
    },
    {
      "cell_type": "code",
      "source": [
        "#guss a number between 1 to 100\n",
        "\n",
        "import random\n",
        "target_num, guess_num =random.randint(1,10),0\n",
        "print(target_num)\n",
        "print(guess_num)\n",
        "while target_num != guess_num:\n",
        "  guess_num = int(input(\"guess number between 1 and 10 until you get it right\"))\n",
        "print(\"well gussed\")"
      ],
      "metadata": {
        "colab": {
          "base_uri": "https://localhost:8080/",
          "height": 391
        },
        "id": "92pdz9Xy_rjl",
        "outputId": "72785536-6151-4cdb-be77-7f4be9bd1194"
      },
      "execution_count": 19,
      "outputs": [
        {
          "name": "stdout",
          "output_type": "stream",
          "text": [
            "10\n",
            "0\n",
            "guess number between 1 and 10 until you get it right2\n",
            "guess number between 1 and 10 until you get it right25\n",
            "guess number between 1 and 10 until you get it right5\n",
            "guess number between 1 and 10 until you get it right5\n",
            "guess number between 1 and 10 until you get it right4\n",
            "guess number between 1 and 10 until you get it right4\n",
            "guess number between 1 and 10 until you get it right4\n",
            "guess number between 1 and 10 until you get it right\n"
          ]
        },
        {
          "output_type": "error",
          "ename": "ValueError",
          "evalue": "ignored",
          "traceback": [
            "\u001b[0;31m---------------------------------------------------------------------------\u001b[0m",
            "\u001b[0;31mValueError\u001b[0m                                Traceback (most recent call last)",
            "\u001b[0;32m<ipython-input-19-fdb88532b5b9>\u001b[0m in \u001b[0;36m<module>\u001b[0;34m\u001b[0m\n\u001b[1;32m      6\u001b[0m \u001b[0mprint\u001b[0m\u001b[0;34m(\u001b[0m\u001b[0mguess_num\u001b[0m\u001b[0;34m)\u001b[0m\u001b[0;34m\u001b[0m\u001b[0;34m\u001b[0m\u001b[0m\n\u001b[1;32m      7\u001b[0m \u001b[0;32mwhile\u001b[0m \u001b[0mtarget_num\u001b[0m \u001b[0;34m!=\u001b[0m \u001b[0mguess_num\u001b[0m\u001b[0;34m:\u001b[0m\u001b[0;34m\u001b[0m\u001b[0;34m\u001b[0m\u001b[0m\n\u001b[0;32m----> 8\u001b[0;31m   \u001b[0mguess_num\u001b[0m \u001b[0;34m=\u001b[0m \u001b[0mint\u001b[0m\u001b[0;34m(\u001b[0m\u001b[0minput\u001b[0m\u001b[0;34m(\u001b[0m\u001b[0;34m\"guess number between 1 and 10 until you get it right\"\u001b[0m\u001b[0;34m)\u001b[0m\u001b[0;34m)\u001b[0m\u001b[0;34m\u001b[0m\u001b[0;34m\u001b[0m\u001b[0m\n\u001b[0m\u001b[1;32m      9\u001b[0m \u001b[0mprint\u001b[0m\u001b[0;34m(\u001b[0m\u001b[0;34m\"well gussed\"\u001b[0m\u001b[0;34m)\u001b[0m\u001b[0;34m\u001b[0m\u001b[0;34m\u001b[0m\u001b[0m\n",
            "\u001b[0;31mValueError\u001b[0m: invalid literal for int() with base 10: ''"
          ]
        }
      ]
    },
    {
      "cell_type": "code",
      "source": [
        "\n"
      ],
      "metadata": {
        "id": "S288eYb6BCkM"
      },
      "execution_count": null,
      "outputs": []
    }
  ]
}