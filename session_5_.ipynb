{
  "nbformat": 4,
  "nbformat_minor": 0,
  "metadata": {
    "colab": {
      "provenance": [],
      "authorship_tag": "ABX9TyPEvqbjiSVAPGI6DIkQ1BVI",
      "include_colab_link": true
    },
    "kernelspec": {
      "name": "python3",
      "display_name": "Python 3"
    },
    "language_info": {
      "name": "python"
    }
  },
  "cells": [
    {
      "cell_type": "markdown",
      "metadata": {
        "id": "view-in-github",
        "colab_type": "text"
      },
      "source": [
        "<a href=\"https://colab.research.google.com/github/KMVALLI/Python-for-datascienc-/blob/main/session_5_.ipynb\" target=\"_parent\"><img src=\"https://colab.research.google.com/assets/colab-badge.svg\" alt=\"Open In Colab\"/></a>"
      ]
    },
    {
      "cell_type": "markdown",
      "source": [
        "#for loop"
      ],
      "metadata": {
        "id": "clkluwXyYwzA"
      }
    },
    {
      "cell_type": "code",
      "source": [
        "# for loop in function i.e range it will take three argurments \n",
        "#if you give 1 it will take that vakue\n",
        "#if you give two it will take maximum and minimum \n",
        "#if you give 3  it will take minimum and maximum and interwel\n"
      ],
      "metadata": {
        "id": "DeeE-kY-YxvR"
      },
      "execution_count": null,
      "outputs": []
    },
    {
      "cell_type": "code",
      "source": [
        "#hear it will print 0 to 4 index start with 0\n",
        "for variable in range(5):\n",
        "  print(variable)"
      ],
      "metadata": {
        "colab": {
          "base_uri": "https://localhost:8080/"
        },
        "id": "L7EZZ8i8YyA5",
        "outputId": "cfef6bcf-0a1b-4870-bc29-44d64be3d65b"
      },
      "execution_count": 5,
      "outputs": [
        {
          "output_type": "stream",
          "name": "stdout",
          "text": [
            "0\n",
            "1\n",
            "2\n",
            "3\n",
            "4\n"
          ]
        }
      ]
    },
    {
      "cell_type": "code",
      "source": [
        "# hear it will start from minimum to maximum \n",
        "for masthan in range(2,9):\n",
        "  print(masthan)"
      ],
      "metadata": {
        "colab": {
          "base_uri": "https://localhost:8080/"
        },
        "id": "8AtId_7GYydx",
        "outputId": "a41cbfe2-37a8-44d5-af01-0aaf26bf0fee"
      },
      "execution_count": 6,
      "outputs": [
        {
          "output_type": "stream",
          "name": "stdout",
          "text": [
            "2\n",
            "3\n",
            "4\n",
            "5\n",
            "6\n",
            "7\n",
            "8\n"
          ]
        }
      ]
    },
    {
      "cell_type": "code",
      "source": [
        "#hear it will start with 2 to 2 skipping of 2\n",
        "for valli in range(2,20,2):\n",
        "  print(valli)"
      ],
      "metadata": {
        "colab": {
          "base_uri": "https://localhost:8080/"
        },
        "id": "C0-MW_KBYyrR",
        "outputId": "e20edd5b-9a93-47e6-bcfc-4a26ef7f50c3"
      },
      "execution_count": 10,
      "outputs": [
        {
          "output_type": "stream",
          "name": "stdout",
          "text": [
            "2\n",
            "4\n",
            "6\n",
            "8\n",
            "10\n",
            "12\n",
            "14\n",
            "16\n",
            "18\n"
          ]
        }
      ]
    },
    {
      "cell_type": "code",
      "source": [
        " masthan_valli = [1,2,3,4,5,6]\n",
        "\n",
        " for valli in range(0,len(masthan_valli)):\n",
        "   #print(masthan_valli)\n",
        "   masthan_valli[valli]=masthan_valli[valli]+2\n",
        "print (masthan_valli)\n"
      ],
      "metadata": {
        "colab": {
          "base_uri": "https://localhost:8080/"
        },
        "id": "vd5jQ7PJYy2I",
        "outputId": "7b2e38d3-9ced-423c-8364-10894c1bc206"
      },
      "execution_count": 13,
      "outputs": [
        {
          "output_type": "stream",
          "name": "stdout",
          "text": [
            "[3, 4, 5, 6, 7, 8]\n"
          ]
        }
      ]
    },
    {
      "cell_type": "code",
      "source": [
        "     items = ['Apple','Bananna','Grapes']\n",
        "     for item in items :\n",
        "       if(item == 'Apple'):\n",
        "         print(\"hello\")\n",
        "       else:\n",
        "         print(item)"
      ],
      "metadata": {
        "colab": {
          "base_uri": "https://localhost:8080/"
        },
        "id": "Rh0RtnE1cySk",
        "outputId": "0a3dcfc1-f8ce-46e8-9454-71cd9dc81501"
      },
      "execution_count": 14,
      "outputs": [
        {
          "output_type": "stream",
          "name": "stdout",
          "text": [
            "hello\n",
            "Bananna\n",
            "Grapes\n"
          ]
        }
      ]
    },
    {
      "cell_type": "code",
      "source": [
        "#sumationof numbers\n",
        "summation = 0\n",
        "for num in range(0,10):\n",
        "  summation = summation+num\n",
        "print (summation)"
      ],
      "metadata": {
        "colab": {
          "base_uri": "https://localhost:8080/"
        },
        "id": "2lMet120rRc7",
        "outputId": "1869137b-07b1-4b70-913a-ff7c4d270d2c"
      },
      "execution_count": 17,
      "outputs": [
        {
          "output_type": "stream",
          "name": "stdout",
          "text": [
            "45\n"
          ]
        }
      ]
    },
    {
      "cell_type": "markdown",
      "source": [
        "#LIst comprehenceses"
      ],
      "metadata": {
        "id": "W2VHlrqhsHnO"
      }
    },
    {
      "cell_type": "code",
      "source": [
        "example = 'masthanvalli'\n",
        "lists = []\n",
        "for valli in  example:\n",
        "  lists.append(valli) \n",
        "  print (lists)"
      ],
      "metadata": {
        "colab": {
          "base_uri": "https://localhost:8080/"
        },
        "id": "VY3jTy17uy0b",
        "outputId": "3f7d79b7-4d8d-42e8-ecde-624f841cb2b5"
      },
      "execution_count": 21,
      "outputs": [
        {
          "output_type": "stream",
          "name": "stdout",
          "text": [
            "['m']\n",
            "['m', 'a']\n",
            "['m', 'a', 's']\n",
            "['m', 'a', 's', 't']\n",
            "['m', 'a', 's', 't', 'h']\n",
            "['m', 'a', 's', 't', 'h', 'a']\n",
            "['m', 'a', 's', 't', 'h', 'a', 'n']\n",
            "['m', 'a', 's', 't', 'h', 'a', 'n', 'v']\n",
            "['m', 'a', 's', 't', 'h', 'a', 'n', 'v', 'a']\n",
            "['m', 'a', 's', 't', 'h', 'a', 'n', 'v', 'a', 'l']\n",
            "['m', 'a', 's', 't', 'h', 'a', 'n', 'v', 'a', 'l', 'l']\n",
            "['m', 'a', 's', 't', 'h', 'a', 'n', 'v', 'a', 'l', 'l', 'i']\n"
          ]
        }
      ]
    },
    {
      "cell_type": "code",
      "source": [
        "print(lists)"
      ],
      "metadata": {
        "colab": {
          "base_uri": "https://localhost:8080/"
        },
        "id": "za-ue27wvYEA",
        "outputId": "5eceedff-5e6a-4c36-b4f1-670fad9bca11"
      },
      "execution_count": 22,
      "outputs": [
        {
          "output_type": "stream",
          "name": "stdout",
          "text": [
            "['m', 'a', 's', 't', 'h', 'a', 'n', 'v', 'a', 'l', 'l', 'i']\n"
          ]
        }
      ]
    },
    {
      "cell_type": "code",
      "source": [
        "example = 'hi i am masthan valli'\n",
        "emptyt_ist=[]\n",
        "for valli in example :\n",
        "  emptyt_ist.append(valli)\n",
        "print(emptyt_ist)\n",
        "#using list comprehensions\n",
        "print([valli for valli in example])"
      ],
      "metadata": {
        "colab": {
          "base_uri": "https://localhost:8080/"
        },
        "id": "WfCU34R3v7NC",
        "outputId": "a97b677b-bfdb-4374-b2b9-2bf89ad0e1c8"
      },
      "execution_count": 27,
      "outputs": [
        {
          "output_type": "stream",
          "name": "stdout",
          "text": [
            "['h', 'i', ' ', 'i', ' ', 'a', 'm', ' ', 'm', 'a', 's', 't', 'h', 'a', 'n', ' ', 'v', 'a', 'l', 'l', 'i']\n",
            "['h', 'i', ' ', 'i', ' ', 'a', 'm', ' ', 'm', 'a', 's', 't', 'h', 'a', 'n', ' ', 'v', 'a', 'l', 'l', 'i']\n"
          ]
        }
      ]
    },
    {
      "cell_type": "code",
      "source": [
        "from traitlets.traitlets import Integer\n",
        "#another excample using if loop\n",
        "int_list = [1,3,5,6,2,5,63,55,6,8565,8555,5]\n",
        "[integer for integer in int_list if integer%2 ==0 ]"
      ],
      "metadata": {
        "colab": {
          "base_uri": "https://localhost:8080/"
        },
        "id": "Hr6f0THFxTpF",
        "outputId": "6fa90f33-e97f-408e-fc43-014be78d53d0"
      },
      "execution_count": 28,
      "outputs": [
        {
          "output_type": "execute_result",
          "data": {
            "text/plain": [
              "[6, 2, 6]"
            ]
          },
          "metadata": {},
          "execution_count": 28
        }
      ]
    },
    {
      "cell_type": "code",
      "source": [
        "## Another example\n",
        "[\"evennumber\" if integer%2==0 else \"oddnumber\" for integer in int_list]"
      ],
      "metadata": {
        "colab": {
          "base_uri": "https://localhost:8080/"
        },
        "id": "XRJqv65NylsE",
        "outputId": "85f08e6f-dfac-4901-b8c7-f500a4399da2"
      },
      "execution_count": 31,
      "outputs": [
        {
          "output_type": "execute_result",
          "data": {
            "text/plain": [
              "['oddnumber',\n",
              " 'oddnumber',\n",
              " 'oddnumber',\n",
              " 'evennumber',\n",
              " 'evennumber',\n",
              " 'oddnumber',\n",
              " 'oddnumber',\n",
              " 'oddnumber',\n",
              " 'evennumber',\n",
              " 'oddnumber',\n",
              " 'oddnumber',\n",
              " 'oddnumber']"
            ]
          },
          "metadata": {},
          "execution_count": 31
        }
      ]
    },
    {
      "cell_type": "code",
      "source": [
        "\n",
        "#with help of def key word we can creatte a userdefined function\n",
        "def abc(name):\n",
        "  print(\"123\",name)"
      ],
      "metadata": {
        "id": "Y7T0Nmq_zE0H"
      },
      "execution_count": 39,
      "outputs": []
    },
    {
      "cell_type": "code",
      "source": [
        "# now it is posible to abc as a functiom\n",
        "#what ever the function you pass in that abc funtion it will print becouse we are defined as in function\n",
        "abc(\"masthan valli\")\n"
      ],
      "metadata": {
        "colab": {
          "base_uri": "https://localhost:8080/"
        },
        "id": "StTR5nNnzebS",
        "outputId": "5d4cbc5c-367c-490f-d41f-04939a5882e5"
      },
      "execution_count": 41,
      "outputs": [
        {
          "output_type": "stream",
          "name": "stdout",
          "text": [
            "123 masthan valli\n"
          ]
        }
      ]
    },
    {
      "cell_type": "code",
      "source": [
        "abc(123)"
      ],
      "metadata": {
        "colab": {
          "base_uri": "https://localhost:8080/"
        },
        "id": "3MZyemNW1Uhr",
        "outputId": "01edcaf3-2106-45ea-cca4-86eed65b88fd"
      },
      "execution_count": 42,
      "outputs": [
        {
          "output_type": "stream",
          "name": "stdout",
          "text": [
            "123 123\n"
          ]
        }
      ]
    },
    {
      "cell_type": "code",
      "source": [
        "abc(1 22 55)"
      ],
      "metadata": {
        "colab": {
          "base_uri": "https://localhost:8080/",
          "height": 134
        },
        "id": "E_0LuBuC15el",
        "outputId": "b5f49254-4e73-4878-e239-df1b010e3819"
      },
      "execution_count": 43,
      "outputs": [
        {
          "output_type": "error",
          "ename": "SyntaxError",
          "evalue": "ignored",
          "traceback": [
            "\u001b[0;36m  File \u001b[0;32m\"<ipython-input-43-59905f27f719>\"\u001b[0;36m, line \u001b[0;32m1\u001b[0m\n\u001b[0;31m    abc(1 22 55)\u001b[0m\n\u001b[0m           ^\u001b[0m\n\u001b[0;31mSyntaxError\u001b[0m\u001b[0;31m:\u001b[0m invalid syntax\n"
          ]
        }
      ]
    },
    {
      "cell_type": "code",
      "source": [
        "#what ever you want o handel handel in defination level i meeen hear we cont do anything in function level\n",
        "# hear we are creating a function combiination of integer and string \n",
        "def studentscore(name ,score):\n",
        "  print(name,\"scored\",score,\"marks\")\n",
        "\n",
        "#above two lines are mondstory to create a function"
      ],
      "metadata": {
        "id": "QQj7MoYc19NN"
      },
      "execution_count": 45,
      "outputs": []
    },
    {
      "cell_type": "code",
      "source": [
        "#now we call the function \n",
        "studentscore(\"masthanvalli\",89)"
      ],
      "metadata": {
        "colab": {
          "base_uri": "https://localhost:8080/"
        },
        "id": "ckjgXT232cI7",
        "outputId": "745d811e-dd57-425e-a08f-2e84acb9373d"
      },
      "execution_count": 46,
      "outputs": [
        {
          "output_type": "stream",
          "name": "stdout",
          "text": [
            "masthanvalli scored 89 marks\n"
          ]
        }
      ]
    },
    {
      "cell_type": "markdown",
      "source": [
        "#date anf time "
      ],
      "metadata": {
        "id": "SEj3ZG--2vPz"
      }
    },
    {
      "cell_type": "code",
      "source": [
        "import datetime\n",
        "today_date = datetime.datetime.now()\n",
        "print (today_date)"
      ],
      "metadata": {
        "colab": {
          "base_uri": "https://localhost:8080/"
        },
        "id": "9_DoOKcQ3zb6",
        "outputId": "2e1226f4-f835-42fa-bfc7-47d6cfa3427a"
      },
      "execution_count": 47,
      "outputs": [
        {
          "output_type": "stream",
          "name": "stdout",
          "text": [
            "2022-11-07 06:56:15.822174\n"
          ]
        }
      ]
    },
    {
      "cell_type": "code",
      "source": [
        "#we can print whay ever required \n",
        "d = datetime.date(2030 , 2 ,27)\n",
        "print(d)"
      ],
      "metadata": {
        "colab": {
          "base_uri": "https://localhost:8080/"
        },
        "id": "sciH9n824B6c",
        "outputId": "38b480cd-16e5-42fe-db8d-0b298b93b468"
      },
      "execution_count": 48,
      "outputs": [
        {
          "output_type": "stream",
          "name": "stdout",
          "text": [
            "2030-02-27\n"
          ]
        }
      ]
    },
    {
      "cell_type": "code",
      "source": [
        "#librery is a collection of modules\n",
        "#module is a collection function "
      ],
      "metadata": {
        "id": "qnMAvNtc4zvJ"
      },
      "execution_count": 49,
      "outputs": []
    },
    {
      "cell_type": "code",
      "source": [
        "#two ways to import in modules \n",
        "#1st import datetime # heare we are takibg the all resourceses those are not required \n",
        "#2nd from datetime import date   ## hear we arevtaking the required resouecese "
      ],
      "metadata": {
        "id": "Fovs7Vlv5l-T"
      },
      "execution_count": 50,
      "outputs": []
    },
    {
      "cell_type": "code",
      "source": [
        "from datetime import date\n",
        "timestamp = date.fromtimestamp(12354654457)  # hear is a encoder is avalable  and it is nneccesary for 10 digit number \n",
        "print(\"Date= \" ,timestamp)"
      ],
      "metadata": {
        "colab": {
          "base_uri": "https://localhost:8080/"
        },
        "id": "z2ZNmO2D6LWQ",
        "outputId": "afc522be-1a5e-440a-e60a-c6ed264b6920"
      },
      "execution_count": 51,
      "outputs": [
        {
          "output_type": "stream",
          "name": "stdout",
          "text": [
            "Date=  2361-07-03\n"
          ]
        }
      ]
    },
    {
      "cell_type": "code",
      "source": [
        "from datetime import time\n"
      ],
      "metadata": {
        "id": "pdCzcXXj80Mm"
      },
      "execution_count": 57,
      "outputs": []
    },
    {
      "cell_type": "code",
      "source": [
        "from datetime import time\n",
        "\n",
        "a =time()\n",
        "print(a)"
      ],
      "metadata": {
        "colab": {
          "base_uri": "https://localhost:8080/"
        },
        "id": "raC0N__M6e_p",
        "outputId": "53cfdf6a-7d2b-4e5a-db92-f03eac00a31b"
      },
      "execution_count": 66,
      "outputs": [
        {
          "output_type": "stream",
          "name": "stdout",
          "text": [
            "00:00:00\n"
          ]
        }
      ]
    },
    {
      "cell_type": "code",
      "source": [
        "b= time(11,34,56)\n",
        "print(\"b=\",b)"
      ],
      "metadata": {
        "colab": {
          "base_uri": "https://localhost:8080/"
        },
        "id": "nIxoZYnp8G5j",
        "outputId": "727eafc5-2a32-464a-cbc9-440d11c82b4f"
      },
      "execution_count": 59,
      "outputs": [
        {
          "output_type": "stream",
          "name": "stdout",
          "text": [
            "b= 11:34:56\n"
          ]
        }
      ]
    },
    {
      "cell_type": "code",
      "source": [
        "c = time(hour = 11, minute=34,second=56)\n",
        "print(c)"
      ],
      "metadata": {
        "colab": {
          "base_uri": "https://localhost:8080/"
        },
        "id": "AW-rTao88n7d",
        "outputId": "2b356b61-61fd-49b7-e272-54028828b753"
      },
      "execution_count": 63,
      "outputs": [
        {
          "output_type": "stream",
          "name": "stdout",
          "text": [
            "11:34:56\n"
          ]
        }
      ]
    },
    {
      "cell_type": "code",
      "source": [
        "d=time(11,34,56,234566)\n",
        "print(d)"
      ],
      "metadata": {
        "colab": {
          "base_uri": "https://localhost:8080/"
        },
        "id": "jc79aBmA9SFo",
        "outputId": "d938d43b-66e9-4f0f-af2f-3509918d3e12"
      },
      "execution_count": 64,
      "outputs": [
        {
          "output_type": "stream",
          "name": "stdout",
          "text": [
            "11:34:56.234566\n"
          ]
        }
      ]
    },
    {
      "cell_type": "code",
      "source": [
        "#calculating the difference \n",
        "from datetime import date\n",
        "t1= date(year =2016, month=5,day=2)\n",
        "t2= date(year =2025, month=9,day=5)\n",
        "t3 = t2-t1\n",
        "print(t3)"
      ],
      "metadata": {
        "colab": {
          "base_uri": "https://localhost:8080/"
        },
        "id": "-GISy9SL9lkx",
        "outputId": "297bf763-e029-464f-9227-8f87a313813b"
      },
      "execution_count": 67,
      "outputs": [
        {
          "output_type": "stream",
          "name": "stdout",
          "text": [
            "3413 days, 0:00:00\n"
          ]
        }
      ]
    },
    {
      "cell_type": "code",
      "source": [
        "print (type(t3))"
      ],
      "metadata": {
        "colab": {
          "base_uri": "https://localhost:8080/"
        },
        "id": "k32U8pc5_gWE",
        "outputId": "c4646f00-f10a-429b-a98b-2451c4bae92c"
      },
      "execution_count": 68,
      "outputs": [
        {
          "output_type": "stream",
          "name": "stdout",
          "text": [
            "<class 'datetime.timedelta'>\n"
          ]
        }
      ]
    },
    {
      "cell_type": "code",
      "source": [
        "t3.days"
      ],
      "metadata": {
        "colab": {
          "base_uri": "https://localhost:8080/"
        },
        "id": "TKff2FhG_lQ0",
        "outputId": "582e0918-052e-40ae-8794-79e95e30b1b6"
      },
      "execution_count": 69,
      "outputs": [
        {
          "output_type": "execute_result",
          "data": {
            "text/plain": [
              "3413"
            ]
          },
          "metadata": {},
          "execution_count": 69
        }
      ]
    },
    {
      "cell_type": "code",
      "source": [
        " from datetime import datetime\n",
        "t4= date(year =2016, month=5,day=2,hour = 7, minute = 56, second =3)\n",
        "t5= date(year =2025, month=9,day=5,hour = 2, minute = 56, second = 3)\n",
        "t6 = t4-t5\n",
        "print(t6)"
      ],
      "metadata": {
        "colab": {
          "base_uri": "https://localhost:8080/",
          "height": 243
        },
        "id": "pV1eL-rn_qfr",
        "outputId": "63ef1d41-c1da-41ac-afca-76189cd88fbf"
      },
      "execution_count": 82,
      "outputs": [
        {
          "output_type": "error",
          "ename": "TypeError",
          "evalue": "ignored",
          "traceback": [
            "\u001b[0;31m---------------------------------------------------------------------------\u001b[0m",
            "\u001b[0;31mTypeError\u001b[0m                                 Traceback (most recent call last)",
            "\u001b[0;32m<ipython-input-82-20b8ff6daa68>\u001b[0m in \u001b[0;36m<module>\u001b[0;34m\u001b[0m\n\u001b[1;32m      1\u001b[0m \u001b[0;32mfrom\u001b[0m \u001b[0mdatetime\u001b[0m \u001b[0;32mimport\u001b[0m \u001b[0mdatetime\u001b[0m\u001b[0;34m\u001b[0m\u001b[0;34m\u001b[0m\u001b[0m\n\u001b[0;32m----> 2\u001b[0;31m \u001b[0mt4\u001b[0m\u001b[0;34m=\u001b[0m \u001b[0mdate\u001b[0m\u001b[0;34m(\u001b[0m\u001b[0myear\u001b[0m \u001b[0;34m=\u001b[0m\u001b[0;36m2016\u001b[0m\u001b[0;34m,\u001b[0m \u001b[0mmonth\u001b[0m\u001b[0;34m=\u001b[0m\u001b[0;36m5\u001b[0m\u001b[0;34m,\u001b[0m\u001b[0mday\u001b[0m\u001b[0;34m=\u001b[0m\u001b[0;36m2\u001b[0m\u001b[0;34m,\u001b[0m\u001b[0mhour\u001b[0m \u001b[0;34m=\u001b[0m \u001b[0;36m7\u001b[0m\u001b[0;34m,\u001b[0m \u001b[0mminute\u001b[0m \u001b[0;34m=\u001b[0m \u001b[0;36m56\u001b[0m\u001b[0;34m,\u001b[0m \u001b[0msecond\u001b[0m \u001b[0;34m=\u001b[0m\u001b[0;36m3\u001b[0m\u001b[0;34m)\u001b[0m\u001b[0;34m\u001b[0m\u001b[0;34m\u001b[0m\u001b[0m\n\u001b[0m\u001b[1;32m      3\u001b[0m \u001b[0mt5\u001b[0m\u001b[0;34m=\u001b[0m \u001b[0mdate\u001b[0m\u001b[0;34m(\u001b[0m\u001b[0myear\u001b[0m \u001b[0;34m=\u001b[0m\u001b[0;36m2025\u001b[0m\u001b[0;34m,\u001b[0m \u001b[0mmonth\u001b[0m\u001b[0;34m=\u001b[0m\u001b[0;36m9\u001b[0m\u001b[0;34m,\u001b[0m\u001b[0mday\u001b[0m\u001b[0;34m=\u001b[0m\u001b[0;36m5\u001b[0m\u001b[0;34m,\u001b[0m\u001b[0mhour\u001b[0m \u001b[0;34m=\u001b[0m \u001b[0;36m2\u001b[0m\u001b[0;34m,\u001b[0m \u001b[0mminute\u001b[0m \u001b[0;34m=\u001b[0m \u001b[0;36m56\u001b[0m\u001b[0;34m,\u001b[0m \u001b[0msecond\u001b[0m \u001b[0;34m=\u001b[0m \u001b[0;36m3\u001b[0m\u001b[0;34m)\u001b[0m\u001b[0;34m\u001b[0m\u001b[0;34m\u001b[0m\u001b[0m\n\u001b[1;32m      4\u001b[0m \u001b[0mt6\u001b[0m \u001b[0;34m=\u001b[0m \u001b[0mt4\u001b[0m\u001b[0;34m-\u001b[0m\u001b[0mt5\u001b[0m\u001b[0;34m\u001b[0m\u001b[0;34m\u001b[0m\u001b[0m\n\u001b[1;32m      5\u001b[0m \u001b[0mprint\u001b[0m\u001b[0;34m(\u001b[0m\u001b[0mt6\u001b[0m\u001b[0;34m)\u001b[0m\u001b[0;34m\u001b[0m\u001b[0;34m\u001b[0m\u001b[0m\n",
            "\u001b[0;31mTypeError\u001b[0m: function takes at most 3 keyword arguments (6 given)"
          ]
        }
      ]
    },
    {
      "cell_type": "code",
      "source": [
        "\n",
        "from datetime import datetime\n",
        "now =datetime.now() "
      ],
      "metadata": {
        "id": "7irg6QGf_ssz"
      },
      "execution_count": 84,
      "outputs": []
    },
    {
      "cell_type": "code",
      "source": [
        "datetime.strftime(now,'%y')"
      ],
      "metadata": {
        "colab": {
          "base_uri": "https://localhost:8080/",
          "height": 36
        },
        "id": "7rVz1oNIC4qI",
        "outputId": "feec5f50-de24-4894-8806-4d0d59135e66"
      },
      "execution_count": 85,
      "outputs": [
        {
          "output_type": "execute_result",
          "data": {
            "text/plain": [
              "'22'"
            ],
            "application/vnd.google.colaboratory.intrinsic+json": {
              "type": "string"
            }
          },
          "metadata": {},
          "execution_count": 85
        }
      ]
    },
    {
      "cell_type": "code",
      "source": [
        "month = now.strftime('%m')\n",
        "print(\"month:\",month)\n",
        "day = now.strftime('%d')\n",
        "print(\"day\",day)"
      ],
      "metadata": {
        "colab": {
          "base_uri": "https://localhost:8080/"
        },
        "id": "bUp7ErTzDKru",
        "outputId": "98f30a13-1e58-4fd3-afc8-54f662cb8cda"
      },
      "execution_count": 88,
      "outputs": [
        {
          "output_type": "stream",
          "name": "stdout",
          "text": [
            "month: 11\n",
            "day 07\n"
          ]
        }
      ]
    },
    {
      "cell_type": "code",
      "source": [
        "time = now.strftime(\"%h:%m:%s\")\n",
        "print(\"time:\",time)"
      ],
      "metadata": {
        "colab": {
          "base_uri": "https://localhost:8080/"
        },
        "id": "M2GZTqe2Dlja",
        "outputId": "9c46bbc1-3718-4c3d-826d-32de8ff0cd7e"
      },
      "execution_count": 89,
      "outputs": [
        {
          "output_type": "stream",
          "name": "stdout",
          "text": [
            "time: Nov:11:1667807067\n"
          ]
        }
      ]
    },
    {
      "cell_type": "markdown",
      "source": [
        "#strptime"
      ],
      "metadata": {
        "id": "NFsfWx5iEDPJ"
      }
    },
    {
      "cell_type": "code",
      "source": [
        "#strptime is class  it is striptime()\n",
        "#lot of examples are avalable you can  googole it \n"
      ],
      "metadata": {
        "id": "I39fBXufEvth"
      },
      "execution_count": null,
      "outputs": []
    },
    {
      "cell_type": "markdown",
      "source": [
        "#Interface"
      ],
      "metadata": {
        "id": "yp3N4bSVFWht"
      }
    },
    {
      "cell_type": "code",
      "source": [
        "# it is used to use inheritance class \n",
        "#it is a data transfor prospective \n",
        "#transfor of data between applicatio is call interfaceses\n",
        "#two types of interfsces  1)sychroneous and 2)asynchronous\n",
        "\n"
      ],
      "metadata": {
        "id": "Pt7v0HTPFeQd"
      },
      "execution_count": null,
      "outputs": []
    },
    {
      "cell_type": "code",
      "source": [
        "fh = open('abc1234.txt','w')\n",
        "fh.writelines('this is line no. 1')\n",
        "fh.writelines('         ')\n",
        "fh.writelines('this is line number .2')\n",
        "fh.close()"
      ],
      "metadata": {
        "colab": {
          "base_uri": "https://localhost:8080/"
        },
        "id": "svdCb5cBHKON",
        "outputId": "2b4a9033-b588-4d76-a4d6-f8c8d9ffe64f"
      },
      "execution_count": 91,
      "outputs": [
        {
          "output_type": "stream",
          "name": "stdout",
          "text": [
            "<_io.TextIOWrapper name='abc1234.txt' mode='w' encoding='UTF-8'>\n"
          ]
        }
      ]
    },
    {
      "cell_type": "code",
      "source": [
        "h = open('abc1234.css','w')\n",
        "fh.writelines('this is line no. 1')\n",
        "fh.writelines('         ')\n",
        "fh.writelines('this is line number .2')\n",
        "fh.close()"
      ],
      "metadata": {
        "colab": {
          "base_uri": "https://localhost:8080/",
          "height": 243
        },
        "id": "Tmmcu3qlHocg",
        "outputId": "ebff7e1a-7dc9-4146-e97c-f781c439691f"
      },
      "execution_count": 97,
      "outputs": [
        {
          "output_type": "error",
          "ename": "ValueError",
          "evalue": "ignored",
          "traceback": [
            "\u001b[0;31m---------------------------------------------------------------------------\u001b[0m",
            "\u001b[0;31mValueError\u001b[0m                                Traceback (most recent call last)",
            "\u001b[0;32m<ipython-input-97-7c298bacda26>\u001b[0m in \u001b[0;36m<module>\u001b[0;34m\u001b[0m\n\u001b[1;32m      1\u001b[0m \u001b[0mh\u001b[0m \u001b[0;34m=\u001b[0m \u001b[0mopen\u001b[0m\u001b[0;34m(\u001b[0m\u001b[0;34m'abc1234.css'\u001b[0m\u001b[0;34m,\u001b[0m\u001b[0;34m'w'\u001b[0m\u001b[0;34m)\u001b[0m\u001b[0;34m\u001b[0m\u001b[0;34m\u001b[0m\u001b[0m\n\u001b[0;32m----> 2\u001b[0;31m \u001b[0mfh\u001b[0m\u001b[0;34m.\u001b[0m\u001b[0mwritelines\u001b[0m\u001b[0;34m(\u001b[0m\u001b[0;34m'this is line no. 1'\u001b[0m\u001b[0;34m)\u001b[0m\u001b[0;34m\u001b[0m\u001b[0;34m\u001b[0m\u001b[0m\n\u001b[0m\u001b[1;32m      3\u001b[0m \u001b[0mfh\u001b[0m\u001b[0;34m.\u001b[0m\u001b[0mwritelines\u001b[0m\u001b[0;34m(\u001b[0m\u001b[0;34m'         '\u001b[0m\u001b[0;34m)\u001b[0m\u001b[0;34m\u001b[0m\u001b[0;34m\u001b[0m\u001b[0m\n\u001b[1;32m      4\u001b[0m \u001b[0mfh\u001b[0m\u001b[0;34m.\u001b[0m\u001b[0mwritelines\u001b[0m\u001b[0;34m(\u001b[0m\u001b[0;34m'this is line number .2'\u001b[0m\u001b[0;34m)\u001b[0m\u001b[0;34m\u001b[0m\u001b[0;34m\u001b[0m\u001b[0m\n\u001b[1;32m      5\u001b[0m \u001b[0mfh\u001b[0m\u001b[0;34m.\u001b[0m\u001b[0mclose\u001b[0m\u001b[0;34m(\u001b[0m\u001b[0;34m)\u001b[0m\u001b[0;34m\u001b[0m\u001b[0;34m\u001b[0m\u001b[0m\n",
            "\u001b[0;31mValueError\u001b[0m: I/O operation on closed file."
          ]
        }
      ]
    },
    {
      "cell_type": "code",
      "source": [],
      "metadata": {
        "id": "zyjI0LhsIKjB"
      },
      "execution_count": null,
      "outputs": []
    }
  ]
}