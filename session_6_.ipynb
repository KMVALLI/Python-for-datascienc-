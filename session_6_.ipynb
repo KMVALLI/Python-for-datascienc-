{
  "nbformat": 4,
  "nbformat_minor": 0,
  "metadata": {
    "colab": {
      "provenance": [],
      "authorship_tag": "ABX9TyPRP8YPYnWIOofx7/VdH3nq",
      "include_colab_link": true
    },
    "kernelspec": {
      "name": "python3",
      "display_name": "Python 3"
    },
    "language_info": {
      "name": "python"
    }
  },
  "cells": [
    {
      "cell_type": "markdown",
      "metadata": {
        "id": "view-in-github",
        "colab_type": "text"
      },
      "source": [
        "<a href=\"https://colab.research.google.com/github/KMVALLI/Python-for-datascienc-/blob/main/session_6_.ipynb\" target=\"_parent\"><img src=\"https://colab.research.google.com/assets/colab-badge.svg\" alt=\"Open In Colab\"/></a>"
      ]
    },
    {
      "cell_type": "code",
      "source": [
        "from datetime import time\n"
      ],
      "metadata": {
        "id": "pdCzcXXj80Mm"
      },
      "execution_count": 57,
      "outputs": []
    },
    {
      "cell_type": "code",
      "source": [
        "from datetime import time\n",
        "\n",
        "a =time()\n",
        "print(a)"
      ],
      "metadata": {
        "colab": {
          "base_uri": "https://localhost:8080/"
        },
        "id": "raC0N__M6e_p",
        "outputId": "53cfdf6a-7d2b-4e5a-db92-f03eac00a31b"
      },
      "execution_count": 66,
      "outputs": [
        {
          "output_type": "stream",
          "name": "stdout",
          "text": [
            "00:00:00\n"
          ]
        }
      ]
    },
    {
      "cell_type": "code",
      "source": [
        "b= time(11,34,56)\n",
        "print(\"b=\",b)"
      ],
      "metadata": {
        "colab": {
          "base_uri": "https://localhost:8080/"
        },
        "id": "nIxoZYnp8G5j",
        "outputId": "727eafc5-2a32-464a-cbc9-440d11c82b4f"
      },
      "execution_count": 59,
      "outputs": [
        {
          "output_type": "stream",
          "name": "stdout",
          "text": [
            "b= 11:34:56\n"
          ]
        }
      ]
    },
    {
      "cell_type": "code",
      "source": [
        "c = time(hour = 11, minute=34,second=56)\n",
        "print(c)"
      ],
      "metadata": {
        "colab": {
          "base_uri": "https://localhost:8080/"
        },
        "id": "AW-rTao88n7d",
        "outputId": "2b356b61-61fd-49b7-e272-54028828b753"
      },
      "execution_count": 63,
      "outputs": [
        {
          "output_type": "stream",
          "name": "stdout",
          "text": [
            "11:34:56\n"
          ]
        }
      ]
    },
    {
      "cell_type": "code",
      "source": [
        "d=time(11,34,56,234566)\n",
        "print(d)"
      ],
      "metadata": {
        "colab": {
          "base_uri": "https://localhost:8080/"
        },
        "id": "jc79aBmA9SFo",
        "outputId": "d938d43b-66e9-4f0f-af2f-3509918d3e12"
      },
      "execution_count": 64,
      "outputs": [
        {
          "output_type": "stream",
          "name": "stdout",
          "text": [
            "11:34:56.234566\n"
          ]
        }
      ]
    },
    {
      "cell_type": "code",
      "source": [
        "#calculating the difference \n",
        "from datetime import date\n",
        "t1= date(year =2016, month=5,day=2)\n",
        "t2= date(year =2025, month=9,day=5)\n",
        "t3 = t2-t1\n",
        "print(t3)"
      ],
      "metadata": {
        "colab": {
          "base_uri": "https://localhost:8080/"
        },
        "id": "-GISy9SL9lkx",
        "outputId": "297bf763-e029-464f-9227-8f87a313813b"
      },
      "execution_count": 67,
      "outputs": [
        {
          "output_type": "stream",
          "name": "stdout",
          "text": [
            "3413 days, 0:00:00\n"
          ]
        }
      ]
    },
    {
      "cell_type": "code",
      "source": [
        "print (type(t3))"
      ],
      "metadata": {
        "colab": {
          "base_uri": "https://localhost:8080/"
        },
        "id": "k32U8pc5_gWE",
        "outputId": "c4646f00-f10a-429b-a98b-2451c4bae92c"
      },
      "execution_count": 68,
      "outputs": [
        {
          "output_type": "stream",
          "name": "stdout",
          "text": [
            "<class 'datetime.timedelta'>\n"
          ]
        }
      ]
    },
    {
      "cell_type": "code",
      "source": [
        "t3.days"
      ],
      "metadata": {
        "colab": {
          "base_uri": "https://localhost:8080/"
        },
        "id": "TKff2FhG_lQ0",
        "outputId": "582e0918-052e-40ae-8794-79e95e30b1b6"
      },
      "execution_count": 69,
      "outputs": [
        {
          "output_type": "execute_result",
          "data": {
            "text/plain": [
              "3413"
            ]
          },
          "metadata": {},
          "execution_count": 69
        }
      ]
    },
    {
      "cell_type": "code",
      "source": [
        " from datetime import datetime\n",
        "t4= date(year =2016, month=5,day=2,hour = 7, minute = 56, second =3)\n",
        "t5= date(year =2025, month=9,day=5,hour = 2, minute = 56, second = 3)\n",
        "t6 = t4-t5\n",
        "print(t6)"
      ],
      "metadata": {
        "colab": {
          "base_uri": "https://localhost:8080/",
          "height": 235
        },
        "id": "pV1eL-rn_qfr",
        "outputId": "63ef1d41-c1da-41ac-afca-76189cd88fbf"
      },
      "execution_count": 82,
      "outputs": [
        {
          "output_type": "error",
          "ename": "TypeError",
          "evalue": "ignored",
          "traceback": [
            "\u001b[0;31m---------------------------------------------------------------------------\u001b[0m",
            "\u001b[0;31mTypeError\u001b[0m                                 Traceback (most recent call last)",
            "\u001b[0;32m<ipython-input-82-20b8ff6daa68>\u001b[0m in \u001b[0;36m<module>\u001b[0;34m\u001b[0m\n\u001b[1;32m      1\u001b[0m \u001b[0;32mfrom\u001b[0m \u001b[0mdatetime\u001b[0m \u001b[0;32mimport\u001b[0m \u001b[0mdatetime\u001b[0m\u001b[0;34m\u001b[0m\u001b[0;34m\u001b[0m\u001b[0m\n\u001b[0;32m----> 2\u001b[0;31m \u001b[0mt4\u001b[0m\u001b[0;34m=\u001b[0m \u001b[0mdate\u001b[0m\u001b[0;34m(\u001b[0m\u001b[0myear\u001b[0m \u001b[0;34m=\u001b[0m\u001b[0;36m2016\u001b[0m\u001b[0;34m,\u001b[0m \u001b[0mmonth\u001b[0m\u001b[0;34m=\u001b[0m\u001b[0;36m5\u001b[0m\u001b[0;34m,\u001b[0m\u001b[0mday\u001b[0m\u001b[0;34m=\u001b[0m\u001b[0;36m2\u001b[0m\u001b[0;34m,\u001b[0m\u001b[0mhour\u001b[0m \u001b[0;34m=\u001b[0m \u001b[0;36m7\u001b[0m\u001b[0;34m,\u001b[0m \u001b[0mminute\u001b[0m \u001b[0;34m=\u001b[0m \u001b[0;36m56\u001b[0m\u001b[0;34m,\u001b[0m \u001b[0msecond\u001b[0m \u001b[0;34m=\u001b[0m\u001b[0;36m3\u001b[0m\u001b[0;34m)\u001b[0m\u001b[0;34m\u001b[0m\u001b[0;34m\u001b[0m\u001b[0m\n\u001b[0m\u001b[1;32m      3\u001b[0m \u001b[0mt5\u001b[0m\u001b[0;34m=\u001b[0m \u001b[0mdate\u001b[0m\u001b[0;34m(\u001b[0m\u001b[0myear\u001b[0m \u001b[0;34m=\u001b[0m\u001b[0;36m2025\u001b[0m\u001b[0;34m,\u001b[0m \u001b[0mmonth\u001b[0m\u001b[0;34m=\u001b[0m\u001b[0;36m9\u001b[0m\u001b[0;34m,\u001b[0m\u001b[0mday\u001b[0m\u001b[0;34m=\u001b[0m\u001b[0;36m5\u001b[0m\u001b[0;34m,\u001b[0m\u001b[0mhour\u001b[0m \u001b[0;34m=\u001b[0m \u001b[0;36m2\u001b[0m\u001b[0;34m,\u001b[0m \u001b[0mminute\u001b[0m \u001b[0;34m=\u001b[0m \u001b[0;36m56\u001b[0m\u001b[0;34m,\u001b[0m \u001b[0msecond\u001b[0m \u001b[0;34m=\u001b[0m \u001b[0;36m3\u001b[0m\u001b[0;34m)\u001b[0m\u001b[0;34m\u001b[0m\u001b[0;34m\u001b[0m\u001b[0m\n\u001b[1;32m      4\u001b[0m \u001b[0mt6\u001b[0m \u001b[0;34m=\u001b[0m \u001b[0mt4\u001b[0m\u001b[0;34m-\u001b[0m\u001b[0mt5\u001b[0m\u001b[0;34m\u001b[0m\u001b[0;34m\u001b[0m\u001b[0m\n\u001b[1;32m      5\u001b[0m \u001b[0mprint\u001b[0m\u001b[0;34m(\u001b[0m\u001b[0mt6\u001b[0m\u001b[0;34m)\u001b[0m\u001b[0;34m\u001b[0m\u001b[0;34m\u001b[0m\u001b[0m\n",
            "\u001b[0;31mTypeError\u001b[0m: function takes at most 3 keyword arguments (6 given)"
          ]
        }
      ]
    },
    {
      "cell_type": "code",
      "source": [
        "\n",
        "from datetime import datetime\n",
        "now =datetime.now() "
      ],
      "metadata": {
        "id": "7irg6QGf_ssz"
      },
      "execution_count": 84,
      "outputs": []
    },
    {
      "cell_type": "code",
      "source": [
        "datetime.strftime(now,'%y')"
      ],
      "metadata": {
        "colab": {
          "base_uri": "https://localhost:8080/",
          "height": 35
        },
        "id": "7rVz1oNIC4qI",
        "outputId": "feec5f50-de24-4894-8806-4d0d59135e66"
      },
      "execution_count": 85,
      "outputs": [
        {
          "output_type": "execute_result",
          "data": {
            "text/plain": [
              "'22'"
            ],
            "application/vnd.google.colaboratory.intrinsic+json": {
              "type": "string"
            }
          },
          "metadata": {},
          "execution_count": 85
        }
      ]
    },
    {
      "cell_type": "code",
      "source": [
        "month = now.strftime('%m')\n",
        "print(\"month:\",month)\n",
        "day = now.strftime('%d')\n",
        "print(\"day\",day)"
      ],
      "metadata": {
        "colab": {
          "base_uri": "https://localhost:8080/"
        },
        "id": "bUp7ErTzDKru",
        "outputId": "98f30a13-1e58-4fd3-afc8-54f662cb8cda"
      },
      "execution_count": 88,
      "outputs": [
        {
          "output_type": "stream",
          "name": "stdout",
          "text": [
            "month: 11\n",
            "day 07\n"
          ]
        }
      ]
    },
    {
      "cell_type": "code",
      "source": [
        "time = now.strftime(\"%h:%m:%s\")\n",
        "print(\"time:\",time)"
      ],
      "metadata": {
        "colab": {
          "base_uri": "https://localhost:8080/"
        },
        "id": "M2GZTqe2Dlja",
        "outputId": "9c46bbc1-3718-4c3d-826d-32de8ff0cd7e"
      },
      "execution_count": 89,
      "outputs": [
        {
          "output_type": "stream",
          "name": "stdout",
          "text": [
            "time: Nov:11:1667807067\n"
          ]
        }
      ]
    },
    {
      "cell_type": "markdown",
      "source": [
        "#strptime"
      ],
      "metadata": {
        "id": "NFsfWx5iEDPJ"
      }
    },
    {
      "cell_type": "code",
      "source": [
        "#strptime is class  it is striptime()\n",
        "#lot of examples are avalable you can  googole it \n"
      ],
      "metadata": {
        "id": "I39fBXufEvth"
      },
      "execution_count": null,
      "outputs": []
    },
    {
      "cell_type": "markdown",
      "source": [
        "#Interface"
      ],
      "metadata": {
        "id": "yp3N4bSVFWht"
      }
    },
    {
      "cell_type": "code",
      "source": [
        "# it is used to use inheritance class \n",
        "#it is a data transfor prospective \n",
        "#transfor of data between applicatio is call interfaceses\n",
        "#two types of interfsces  1)sychroneous and 2)asynchronous\n",
        "\n"
      ],
      "metadata": {
        "id": "Pt7v0HTPFeQd"
      },
      "execution_count": null,
      "outputs": []
    },
    {
      "cell_type": "code",
      "source": [
        "fh = open('abc1234.txt','w')\n",
        "fh.writelines('this is line no. 1')\n",
        "fh.writelines('         ')\n",
        "fh.writelines('this is line number .2')\n",
        "fh.close()"
      ],
      "metadata": {
        "colab": {
          "base_uri": "https://localhost:8080/"
        },
        "id": "svdCb5cBHKON",
        "outputId": "2b4a9033-b588-4d76-a4d6-f8c8d9ffe64f"
      },
      "execution_count": 91,
      "outputs": [
        {
          "output_type": "stream",
          "name": "stdout",
          "text": [
            "<_io.TextIOWrapper name='abc1234.txt' mode='w' encoding='UTF-8'>\n"
          ]
        }
      ]
    },
    {
      "cell_type": "code",
      "source": [
        "fh = open('abc1234.txt','w')\n",
        "fh.writelines(\"this is line no. 1\")\n",
        "fh.writelines('         ')\n",
        "fh.writelines('this is line number .2')\n",
        "fh.close()"
      ],
      "metadata": {
        "id": "Tmmcu3qlHocg"
      },
      "execution_count": 103,
      "outputs": []
    },
    {
      "cell_type": "code",
      "source": [
        "w - create the file and write the data\n",
        "r- read teh content from the file\n",
        "w+ - create file and write and read\n",
        "r+ - read and write\n",
        "a - append"
      ],
      "metadata": {
        "colab": {
          "base_uri": "https://localhost:8080/",
          "height": 131
        },
        "id": "zyjI0LhsIKjB",
        "outputId": "166082fa-ddcb-4984-ded5-b86181de667e"
      },
      "execution_count": 104,
      "outputs": [
        {
          "output_type": "error",
          "ename": "SyntaxError",
          "evalue": "ignored",
          "traceback": [
            "\u001b[0;36m  File \u001b[0;32m\"<ipython-input-104-7ca03455c908>\"\u001b[0;36m, line \u001b[0;32m1\u001b[0m\n\u001b[0;31m    w - create the file and write the data\u001b[0m\n\u001b[0m                 ^\u001b[0m\n\u001b[0;31mSyntaxError\u001b[0m\u001b[0;31m:\u001b[0m invalid syntax\n"
          ]
        }
      ]
    },
    {
      "cell_type": "code",
      "source": [
        "fh = open(\"abc1234.txt\",'r')\n",
        "print(fh.read())\n",
        "fh.close()"
      ],
      "metadata": {
        "colab": {
          "base_uri": "https://localhost:8080/"
        },
        "id": "KXRNzR5nUDhy",
        "outputId": "a448fd4b-aec8-4d20-fa0f-5e34811d5b1d"
      },
      "execution_count": 105,
      "outputs": [
        {
          "output_type": "stream",
          "name": "stdout",
          "text": [
            "this is line no. 1         this is line number .2\n"
          ]
        }
      ]
    },
    {
      "cell_type": "code",
      "source": [
        "!pip install bs4"
      ],
      "metadata": {
        "colab": {
          "base_uri": "https://localhost:8080/"
        },
        "id": "dwmtxAuHUTyx",
        "outputId": "4ee1349b-5c14-4156-f91c-b738b2b76443"
      },
      "execution_count": 107,
      "outputs": [
        {
          "output_type": "stream",
          "name": "stdout",
          "text": [
            "Looking in indexes: https://pypi.org/simple, https://us-python.pkg.dev/colab-wheels/public/simple/\n",
            "Requirement already satisfied: bs4 in /usr/local/lib/python3.7/dist-packages (0.0.1)\n",
            "Requirement already satisfied: beautifulsoup4 in /usr/local/lib/python3.7/dist-packages (from bs4) (4.6.3)\n"
          ]
        }
      ]
    },
    {
      "cell_type": "code",
      "source": [
        "pip install lxml"
      ],
      "metadata": {
        "colab": {
          "base_uri": "https://localhost:8080/"
        },
        "id": "b__0UGf7XSRp",
        "outputId": "8450b6e7-6483-41e4-8afa-623c0130a78f"
      },
      "execution_count": 108,
      "outputs": [
        {
          "output_type": "stream",
          "name": "stdout",
          "text": [
            "Looking in indexes: https://pypi.org/simple, https://us-python.pkg.dev/colab-wheels/public/simple/\n",
            "Requirement already satisfied: lxml in /usr/local/lib/python3.7/dist-packages (4.9.1)\n"
          ]
        }
      ]
    },
    {
      "cell_type": "code",
      "source": [
        "import bs4 as bs\n",
        "import urllib.request\n",
        "sause = urllib.request.urlopen(\"https://www.indiabix.com/hr-interview/are-you-willing-to-relocate-or-travel/\").read()\n",
        "soup = bs.BeautifulSoup(sause,'lxml')\n",
        "print(soup.title)"
      ],
      "metadata": {
        "colab": {
          "base_uri": "https://localhost:8080/"
        },
        "id": "oDGVERUCXZ3V",
        "outputId": "d82fc013-5135-4e02-8901-829c85bd38ce"
      },
      "execution_count": 111,
      "outputs": [
        {
          "output_type": "stream",
          "name": "stdout",
          "text": [
            "<title>Are you willing to relocate or travel? - HR Interview Questions and Answers</title>\n"
          ]
        }
      ]
    },
    {
      "cell_type": "markdown",
      "source": [
        "#lambda functions"
      ],
      "metadata": {
        "id": "Bd8PFFaeYmVs"
      }
    },
    {
      "cell_type": "code",
      "source": [
        "# lambda arguments: expression\n",
        "valli = lambda x: x*2\n",
        "print(valli(5))"
      ],
      "metadata": {
        "colab": {
          "base_uri": "https://localhost:8080/"
        },
        "id": "7LiMA5efb59l",
        "outputId": "207ac800-eea7-4c01-f9ff-6641d2ee030c"
      },
      "execution_count": 112,
      "outputs": [
        {
          "output_type": "stream",
          "name": "stdout",
          "text": [
            "10\n"
          ]
        }
      ]
    },
    {
      "cell_type": "code",
      "source": [
        "#insted of doing on def function we can achive using lanbda function \n",
        "\n",
        "def masthan(x):\n",
        "  return x*2\n",
        "print(masthan(8))"
      ],
      "metadata": {
        "colab": {
          "base_uri": "https://localhost:8080/"
        },
        "id": "J_ATJxoRcYu2",
        "outputId": "47cb0ebb-bca6-428c-d9ff-f8154d7c4501"
      },
      "execution_count": 113,
      "outputs": [
        {
          "output_type": "stream",
          "name": "stdout",
          "text": [
            "16\n"
          ]
        }
      ]
    },
    {
      "cell_type": "markdown",
      "source": [
        "#filter()"
      ],
      "metadata": {
        "id": "UkuYi_KRif3_"
      }
    },
    {
      "cell_type": "code",
      "source": [
        "#list is list   ===> and filter is a key world ==> appling the lambda function  anf appling on the my_list\n",
        "#program to filter out only the even items from a list \n",
        "my_list = [1,2,5,4,36,45,5,45,45,5,545,455,6,86,]\n",
        "new_list = list(filter(lambda x: (x%2 == 0), my_list))\n",
        "print(new_list)"
      ],
      "metadata": {
        "id": "zwE57qdCdvmd"
      },
      "execution_count": null,
      "outputs": []
    },
    {
      "cell_type": "markdown",
      "source": [
        "#map()"
      ],
      "metadata": {
        "id": "n0uxR5YXhR5y"
      }
    },
    {
      "cell_type": "code",
      "source": [
        "#map function takes both function amd list \n",
        "#see my list going to double now \n",
        "#it is just same s afilter \n",
        "\n",
        "my_list = [2,5,32,56,4,55,65,2,5,6,5]\n",
        "\n",
        "new_list = list(map(lambda x: x*2 ,my_list))\n",
        "\n",
        "print(new_list)"
      ],
      "metadata": {
        "colab": {
          "base_uri": "https://localhost:8080/"
        },
        "id": "XVZtkOWkhWTa",
        "outputId": "4c46e5e5-c9a7-44b5-c785-4a29baa0b770"
      },
      "execution_count": 114,
      "outputs": [
        {
          "output_type": "stream",
          "name": "stdout",
          "text": [
            "[4, 10, 64, 112, 8, 110, 130, 4, 10, 12, 10]\n"
          ]
        }
      ]
    },
    {
      "cell_type": "code",
      "source": [
        "#using filter we cont change the atual value of the list\n",
        "#using map we can chnage the value\n"
      ],
      "metadata": {
        "id": "kF0T-sVliSAS"
      },
      "execution_count": null,
      "outputs": []
    },
    {
      "cell_type": "markdown",
      "source": [
        "#regular expression"
      ],
      "metadata": {
        "id": "Pb0q5aCBjV23"
      }
    },
    {
      "cell_type": "code",
      "source": [
        "#it will alows the search patteren in the data in main logic \n",
        "#you need to sertch in google regular expression symboles "
      ],
      "metadata": {
        "id": "NmaXFJQ5jab3"
      },
      "execution_count": null,
      "outputs": []
    },
    {
      "cell_type": "code",
      "source": [
        "import re \n",
        "NameAge = \" Masthan is 24 and Devi is 24 asna is 22 Ali is 36 and Teja is 23 \" \n",
        "ages = re.findall(r'\\d{1,2}',NameAge) # hear we are taking the age minimum one charector i meen 0 to 9 and maximum 2 imwwn it \n",
        "#it must be below 99 only\n",
        "names =re.findall('r\\[A-Z][a-z]*',NameAge) #hear first uppercase latter followed by the lower case\n",
        "print(ages)\n",
        "print(names)\n",
        "ageDict = {}\n",
        "x=0\n",
        "for eachname in names:\n",
        "  ageDict[eachname]=ages[x]\n",
        "  x+=1\n",
        "  print(ageDict)\n"
      ],
      "metadata": {
        "colab": {
          "base_uri": "https://localhost:8080/"
        },
        "id": "kfRfS6FslfXA",
        "outputId": "abf0e45b-8258-4000-eca3-074fdaf3c2e9"
      },
      "execution_count": 118,
      "outputs": [
        {
          "output_type": "stream",
          "name": "stdout",
          "text": [
            "['24', '24', '22', '36', '23']\n",
            "[]\n"
          ]
        }
      ]
    },
    {
      "cell_type": "code",
      "source": [
        "#finding the valid emails\n",
        "import re\n",
        "email ='mathanvalli@gmail.com valli@valli.com skaol.com md@com @sas 123@abd.ty kiran@yahoo.com'\n",
        "print(\"emmail matchings\",len(re.findall(\"[\\w._%+-]{1,20}@[\\w.-]{2,20}.[A-Za-z]{2,3}\",email)))\n"
      ],
      "metadata": {
        "colab": {
          "base_uri": "https://localhost:8080/"
        },
        "id": "XYrt4v-rn3L5",
        "outputId": "79bc150c-f399-4496-a8ae-d06d7bda8c30"
      },
      "execution_count": 117,
      "outputs": [
        {
          "output_type": "stream",
          "name": "stdout",
          "text": [
            "emmail matchings 4\n"
          ]
        }
      ]
    },
    {
      "cell_type": "code",
      "source": [
        "# finding the phone number is valid or not \n",
        "import re\n",
        "phone_number = \"415-445-2255\"\n",
        "if re.search(\"\\d{3}-\\d{3}-\\d{4}\",phone_number):\n",
        "   print (\"its a phone number \")\n",
        "else:\n",
        "  print(\"it is a not a phone number \")"
      ],
      "metadata": {
        "colab": {
          "base_uri": "https://localhost:8080/"
        },
        "id": "7L4KbZK_qiBU",
        "outputId": "3627092e-798f-4ccf-d0a3-c36d19d91479"
      },
      "execution_count": 124,
      "outputs": [
        {
          "output_type": "stream",
          "name": "stdout",
          "text": [
            "its a phone number \n"
          ]
        }
      ]
    },
    {
      "cell_type": "code",
      "source": [
        "\n",
        "import re\n",
        "import urllib.request\n",
        "from re import findall\n",
        "\n",
        "url =\"https://www.cell-phone-list.net/cell-phone-number-list.html\"\n",
        "response = urllib.request.urlopen(url)\n",
        "html = response.read()\n",
        "print(html)\n",
        "htmlstr = html.decode()\n",
        "pdata = findall(\"\\(\\d{3}\\)  \\d{3}-\\d{4}\", htmlstr)\n",
        "for item in pdata:\n",
        "  print(item)"
      ],
      "metadata": {
        "colab": {
          "base_uri": "https://localhost:8080/"
        },
        "id": "lebD2zh7tqha",
        "outputId": "985d503f-02c9-4bd2-9313-093dcf3a246b"
      },
      "execution_count": 128,
      "outputs": [
        {
          "output_type": "stream",
          "name": "stdout",
          "text": [
            "b'<!DOCTYPE html>\\r\\n<html class=\"html\">\\r\\n\\r\\n\\r\\n<head>\\r\\n    <meta charset=\"utf-8\">\\r\\n    <meta http-equiv=\"X-UA-Compatible\" content=\"IE=edge\">\\r\\n<meta name=\"Description\" content=\"The Cell Phone List Mobile Phone Number Database is a master source for all wireless numbers, both ported and non-ported, in the USA and Canade.\"> \\r\\n\\r\\n<meta property=\"og:description\" content=\"The Cell Phone List Mobile Phone Number Database is a master source of all available wireless numbers, both ported and non-ported, in the United States and Canade.\"> \\r\\n\\r\\n   <meta name=\"KeyWords\" content=\"Cell Phone, Number, Database, list, mobile database, phone numbers, master list, mobile cell phone numbers, numbers, cell phone numbers, download, cell phone list, csv, area code, canada, usa, complete, sms, text messaging, zip code, area code, npx, carrier, wireless, wireless carrier, DNC \"> \\r\\n   \\r\\n\\r\\n   <meta name=\"viewport\" content=\"width=device-width, initial-scale=1\">\\r\\n    <link rel=\"shortcut icon\" type=\"image/png\" href=\"images/favicon.html\" />\\r\\n   <title>Cell Phone List - Mobile Number Database</title> \\r\\n\\r\\n    <link rel=\"stylesheet\" href=\"css/bootstrap.min.css\">\\r\\n    <link rel=\"stylesheet\" href=\"plugins/owl.carousel/assets/owl.carousel.css\">\\r\\n    <link rel=\"stylesheet\" href=\"plugins/owl.carousel/assets/owl.theme.default.min.css\">\\r\\n    <link rel=\"stylesheet\" href=\"plugins/animate/animate.css\">\\r\\n    <!-- theme css -->\\r\\n   <!--  <link rel=\"stylesheet\" href=\"css/style.css\">  --> \\r\\n    <link rel=\"stylesheet\" href=\"css/font-awesome.css\">\\r\\n    <link rel=\"stylesheet\" href=\"css/hover.css\">\\r\\n    <link rel=\"stylesheet\" href=\"css/style.css\">\\r\\n    <link rel=\"stylesheet\" href=\"css/responsive.css\">\\r\\n    <link rel=\"stylesheet\" href=\"css/effect.css\" >\\r\\n    <link rel=\"stylesheet\" href=\"css/jquery.fancybox.css\" >\\r\\n\\r\\n    <!-- Rev slider css -->\\r\\n    <link href=\"plugins/revolution/css/settings.css\" rel=\"stylesheet\">\\r\\n    <link href=\"plugins/revolution/css/layers.css\" rel=\"stylesheet\">\\r\\n    <link href=\"plugins/revolution/css/navigation.css\" rel=\"stylesheet\">\\r\\n    \\r\\n<script type=\"text/javascript\">\\r\\n\\r\\n  var _gaq = _gaq || [];\\r\\n  _gaq.push([\\'_setAccount\\', \\'UA-16051403-4\\']);\\r\\n  _gaq.push([\\'_trackPageview\\']);\\r\\n\\r\\n  (function() {\\r\\n    var ga = document.createElement(\\'script\\'); ga.type = \\'text/javascript\\'; ga.async = true;\\r\\n    ga.src = (\\'https:\\' == document.location.protocol ? \\'https://ssl\\' : \\'http://www\\') + \\'.google-analytics.com/ga.js\\';\\r\\n    var s = document.getElementsByTagName(\\'script\\')[0]; s.parentNode.insertBefore(ga, s);\\r\\n  })();\\r\\n\\r\\n</script>\\r\\n\\r\\n</head>\\r\\n<body>\\r\\n\\r\\n<!--================Header Area =================-->\\r\\n<header class=\"main_header_area menu_color\">\\r\\n<div class=\"header_top\">\\r\\n<div class=\"container\">\\r\\n<div class=\"header_top_inner\">\\r\\n<div class=\"pull-left\"><a href=\"tel:8885010001\">(888) 501-0001</a> <a href=\"mailto:info@cell-phone-list.net\">info@cell-phone-list.net</a>\\r\\n</div>\\r\\n                        <div class=\"pull-right\">\\r\\n                            <ul class=\"header_social\">\\r\\n                                \\r\\n                            </ul>\\r\\n                        </div>\\r\\n                    </div>\\r\\n                </div>\\r\\n            </div>\\r\\n            <div class=\"header_menu\">\\r\\n\\r\\n\\r\\n\\r\\n<nav class=\"navbar navbar-default\">\\r\\n                    <div class=\"container\">\\r\\n                        <!-- Brand and toggle get grouped for better mobile display -->\\r\\n                        <div class=\"navbar-header\">\\r\\n                            <button type=\"button\" class=\"navbar-toggle collapsed\" data-toggle=\"collapse\" data-target=\"#bs-example-navbar-collapse-1\" aria-expanded=\"false\">\\r\\n                                <span class=\"sr-only\">Toggle navigation</span>\\r\\n                                <span class=\"icon-bar\"></span>\\r\\n                                <span class=\"icon-bar\"></span>\\r\\n                                <span class=\"icon-bar\"></span>\\r\\n                            </button>\\r\\n                            <a class=\"navbar-brand\" href=\"index-2.html\"><img src=\"img/logo.png\" alt=\"Cell Phone Number List\"></a>\\r\\n                        </div>\\r\\n\\r\\n                        <!-- Collect the nav links, forms, and other conent for toggling -->\\r\\n                        <div class=\"collapse navbar-collapse\" id=\"bs-example-navbar-collapse-1\">\\r\\n                            <ul class=\"nav navbar-nav\">\\r\\n                                <li >\\r\\n                                    <a href=\"index-2.html\">Home</a>\\r\\n    <li class=\"submenu dropdown\"><a aria-expanded=\"false\" aria-haspopup=\"true\" class=\"dropdown-toggle\" data-toggle=\"dropdown\" href=\"#\" role=\"button\">Mobile Lists<i class=\"fa fa-angle-down\"></i> </a>\\r\\n\\t\\r\\n\\r\\n<ul class=\"dropdown-menu\">\\r\\n\\r\\n<li><a href=\"cell-phone-number-list.html\">Cell Phone Number List</a></li>\\r\\n\\r\\n\\r\\n\\r\\n<li><a href=\"bizop-business-opportunity-leads.html\"> Business Opportunity List (BizOp) </a></li>\\r\\n<li><a href=\"uk-united-kingdom-cell-phone-number-list.html\"> United Kingdom Cell Phone Number List</a></li>\\r\\n<li><a href=\"cell-phone-number-list-demographics.html\">Cell Phone Number List with Demographics</a></li>\\r\\n\\r\\n\\r\\n\\r\\n</ul>\\r\\n\\r\\n    <li class=\"submenu dropdown\"><a aria-expanded=\"false\" aria-haspopup=\"true\" class=\"dropdown-toggle\" data-toggle=\"dropdown\" href=\"#\" role=\"button\">Delivery Platforms<i class=\"fa fa-angle-down\"></i> </a>\\r\\n\\t\\r\\n\\r\\n<ul class=\"dropdown-menu\">\\r\\n<li><a href=\"ringless-voicemail-drop-platform.html\">Ringless Voicemail Drops</a></li>\\r\\n<li><a href=\"bulk-sms-software-platform.html\">Bulk SMS Software Platform</a></li>\\r\\n\\r\\n\\r\\n\\r\\n\\r\\n\\r\\n\\r\\n\\r\\n  \\r\\n\\r\\n\\t\\r\\n\\t</ul>\\r\\n    \\r\\n\\r\\n<li><a href=\"data-reseller-program.html\">Reseller Program</a> </li>\\r\\n\\r\\n     <li class=\"submenu dropdown\"><a aria-expanded=\"false\" aria-haspopup=\"true\" class=\"dropdown-toggle\" data-toggle=\"dropdown\" href=\"#\" role=\"button\">Information<i class=\"fa fa-angle-down\"></i> </a>\\r\\n\\t\\r\\n\\r\\n<ul class=\"dropdown-menu\">\\r\\n    \\r\\n<li><a href=\"about.html\">About Us</a> </li>\\r\\n<li><a href=\"pricing.html\">Our Pricing</a></li>\\r\\n\\r\\n<li><a href=\"use-case-examples.html\">Use Case Examples</a></li>\\r\\n<li><a href=\"faq.html\">Frequently Asked Questions</a>\\r\\n</li>\\r\\n\\r\\n\\r\\n</ul>\\r\\n\\r\\n\\r\\n\\r\\n<li><a href=\"buy.html\">Buy Now</a> </li>\\r\\n\\r\\n\\r\\n<li><a href=\"contact.html\">Contact Us</a> </li>\\r\\n</ul>\\r\\n\\r\\n\\r\\n\\r\\n\\r\\n</div>\\r\\n<!-- /.navbar-collapse --></div>\\r\\n<!-- /.container-fluid --></nav>\\r\\n</div>\\r\\n</header>\\r\\n<!--================Header Area =================-->\\r\\n<!--================Banner Area =================-->\\r\\n        <section class=\"banner_area_plane\">\\r\\n            <div class=\"container\">\\r\\n                <div class=\"banner_content\">\\r\\n                    <h3>Cell Phone Number List (USA &amp; Canada)</h3>\\r\\n              </div>\\r\\n            </div>\\r\\n        </section>\\r\\n        <div class=\"banner_link\">\\r\\n            <div class=\"container\">\\r\\n                <div class=\"b_crum_link_inner\">\\r\\n                    <a class=\"active\" href=\"index-2.html\">Home</a>\\r\\n                    <a href=\"cell-phone-number-list.html\">Cell Phone Number List</a>\\r\\n                </div>\\r\\n            </div>\\r\\n        </div>\\r\\n        <!--================End Banner Area =================-->\\r\\n        \\r\\n        <!--================Our About Area =================-->\\r\\n      <section class=\"our_about_area\">\\r\\n            <div class=\"container\">\\r\\n                <div class=\"row\">\\r\\n                    <div class=\"col-md-7\">\\r\\n                        <div class=\"our_about_left_content\">\\r\\n                \\r\\n                <h2>Cell Phone Number List Database</h2>\\r\\n\\r\\n\\r\\n<p>The CPL USA & Canadian Database contains over 430 million individual mobile cell phone \\r\\n\\r\\nnumbers.  Consider our database a \"Master List\" of every mobile phone number, both ported and non-ported, currently \\r\\n\\r\\nin existence!  </p>\\r\\n\\r\\n<p>\\r\\n\\r\\nOur mobile area code lists are updated on a regular basis, so you can be confident <strong>our database provides the most accurate and complete mobile \\r\\n\\r\\ndata available</strong>.  The CPL Database includes every NPA (area code), every NXX (prefix), wireless carrier, message domain, and more!</p>\\r\\n\\r\\n\\r\\n\\r\\n<p><br><strong>Database Features Include:</strong><br/ >\\r\\n  Download In TXT or CSV Formats<br />Unlimited Downloads (Up To 10,000 Numbers At A Time)<br />DNC Scrubbing Tool (Scrub Your List Against The National Do Not Call Registry)<br />\\r\\n  Target Your Area Geographically, (Zip Code, <a href=\"canadian-postal-code-telephone-number-lookup.html\">Postal Code</a>, City, County, Wireless Carrier)\\r\\n</p>\\r\\n\\r\\n\\r\\n<p><br><strong>Database Information Includes:</strong><br/ >\\r\\n<img src=\"img/icon/sing-icon.png\" alt=\"Mobile Phone Number Database\">NPA (Area Code)<br />\\r\\n\\r\\n<img src=\"img/icon/sing-icon.png\" alt=\"Cell Phone List\">NXX (Prefix)<br />\\r\\n\\r\\n<img src=\"img/icon/sing-icon.png\" alt=\"\">City<br />\\r\\n\\r\\n<img src=\"img/icon/sing-icon.png\" alt=\"\">State<br />\\r\\n\\r\\n<img src=\"img/icon/sing-icon.png\" alt=\"\">County<br />\\r\\n\\r\\n<img src=\"img/icon/sing-icon.png\" alt=\"\">ZIP Code<br />\\r\\n\\r\\n<img src=\"img/icon/sing-icon.png\" alt=\"\">County Population<br />\\r\\n\\r\\n<img src=\"img/icon/sing-icon.png\" alt=\"\">ZIP Code Population<br />\\r\\n\\r\\n<img src=\"img/icon/sing-icon.png\" alt=\"\">Wireless Carrier (NPX)<br />\\r\\n\\r\\n<img src=\"img/icon/sing-icon.png\" alt=\"\">Message Domain\\r\\n</p>\\r\\n\\r\\n\\r\\n\\r\\n<p>You have the ability to instantly download thousands of mobile numbers in TXT or CSV format with one click.  We provide an easy to use dashboard for targeting your area code geographically, including the ability to target by zip code, city, county, <a href=\"canadian-postal-code-telephone-number-lookup.html\">postal code</a>, and wireless carrier. </p><p>\\r\\n\\r\\nThe CPL Database includes a built in scrubbing tool that allows you to easily scrub your list against the National Do Not Call List. You also have the option to include the SMS carrier message domain for SMS based text messaging campaigns using a bulk email software program.</p>\\r\\n<p><br><strong>Here Are Some Examples:</strong>\\r\\n<br />\\r\\n7609947483 \\r\\n<br />\\r\\n8015295125 \\r\\n<br />\\r\\n2035006370 \\r\\n<br />\\r\\n6154817037 \\r\\n<br />\\r\\n7608440455\\r\\n</p><p>\\r\\n7609947483@vtext.com \\r\\n<br />\\r\\n8015295125@sms.mycricket.com \\r\\n<br />\\r\\n2035006370@mobile.mycingular.com \\r\\n<br />\\r\\n6154817037@voicestream.net \\r\\n<br />\\r\\n7608440455@tmomail.net</p>\\r\\n<p>\\r\\n\\r\\nIn addition to the USA & Canadian Database, we offer the complete United Kingdom, Puerto Rican, Virgin Island,  \\r\\n\\r\\nAmerican Samoa, Bermuda, Dominican Republic, Guam, Northern Mariana Islands, St. Lucia, St. \\r\\n\\r\\nVincent & Grenadines databases </p>\\r\\n<p>If you would like to know how many mobile cell phone numbers are in any particular area code visit the  \\r\\n\\r\\n<a href=\"area-code-list.html\">Area Code List</a> section. Have a question? Visit the <a href=\"faq.html\">Cell Phone List FAQ</a> section for more information.</p>\\r\\n\\r\\n<p><br><strong>List Counts By Area Code:</strong><br/ >For detailed record counts of each area code, visit the <a href=\"area-code-list.html\">List Counts by Area Code</a> section.</p>\\r\\n\\r\\n\\r\\n<p>\\r\\n<br><strong>Use The Form Located Below To Purchase A List:</strong><br>Once you make a purchase, your account will be activated the same business day! <em>For higher volume purchases, contact us directly.</em></</p><p>\\r\\n \\r\\n\\r\\n</p>\\r\\n<p><form action=\"https://www.paypal.com/cgi-bin/webscr\" method=\"post\" target=\"_top\">\\r\\n<input type=\"hidden\" name=\"cmd\" value=\"_s-xclick\">\\r\\n<input type=\"hidden\" name=\"hosted_button_id\" value=\"Q75XNEWW62J2E\">\\r\\n<table>\\r\\n<tr><td><input type=\"hidden\" name=\"on0\" value=\"Buy Now\">Buy Now</td></tr><tr><td><select name=\"os0\">\\r\\n\\t<option value=\"One Area Code\">One Area Code $295.00 USD</option>\\r\\n\\t<option value=\"Three Area Codes\">Three Area Codes $495.00 USD</option>\\r\\n\\t<option value=\"Ten Area Codes\">Ten Area Codes $995.00 USD</option>\\r\\n</select> </td></tr>\\r\\n<tr><td><input type=\"hidden\" name=\"on1\" value=\"What Area Code(s) Do You Want?\">What Area Code(s) Do You Want?</td></tr><tr><td><input type=\"text\" name=\"os1\" maxlength=\"200\"></td></tr>\\r\\n</table>\\r\\n<input type=\"hidden\" name=\"currency_code\" value=\"USD\">\\r\\n<input type=\"image\" src=\"http://www.cell-phone-list.net/buy.jpg\" border=\"0\" name=\"submit\" alt=\"PayPal - The safer, easier way to pay online!\">\\r\\n<img alt=\"\" border=\"0\" src=\"https://www.paypalobjects.com/en_US/i/scr/pixel.gif\" width=\"1\" height=\"1\">\\r\\n</form>\\r\\n</p>\\r\\n<p>\\r\\n<img src=\"images/credit-card-logos.png\" width=\"151.6\" height=\"31.4\" alt=\"All Major Credit Cards Accepted\" />\\r\\n  </p>   <p><strong><u>We accept Bitcoin!</u></strong> Contact us for payment instructions.</p>           \\r\\n            </div>\\r\\n                    </div>\\r\\n                    <div class=\"col-md-5\">\\r\\n                        \\r\\n                        <div class=\"our_about_image\">\\r\\n\\r\\n<img src=\"img/wireless-cell-phone-number-list-usa-canada.jpg\" alt=\"Wireless Cell Phone Number List Data for USA and Canada\">   \\r\\n\\r\\n                           \\r\\n                        </div>\\r\\n<div align=\"center\" class=\"tp-caption tp-resizeme slider_button\" data-fontsize=\"[\\'14\\',\\'14\\',\\'14\\',\\'14\\']\" data-frames=\"[{&quot;delay&quot;:10,&quot;speed&quot;:1500,&quot;frame&quot;:&quot;0&quot;,&quot;from&quot;:&quot;y:[100%];z:0;rX:0deg;rY:0;rZ:0;sX:1;sY:1;skX:0;skY:0;opacity:0;&quot;,&quot;mask&quot;:&quot;x:0px;y:[100%];s:inherit;e:inherit;&quot;,&quot;to&quot;:&quot;o:1;&quot;,&quot;ease&quot;:&quot;Power2.easeInOut&quot;},{&quot;delay&quot;:&quot;wait&quot;,&quot;speed&quot;:1500,&quot;frame&quot;:&quot;999&quot;,&quot;to&quot;:&quot;y:[175%];&quot;,&quot;mask&quot;:&quot;x:inherit;y:inherit;s:inherit;e:inherit;&quot;,&quot;ease&quot;:&quot;Power2.easeInOut&quot;}]\" data-height=\"none\" data-hoffset=\"[\\'0\\',\\'0\\',\\'0\\',\\'0\\']\" data-lineheight=\"[\\'46\\',\\'46\\',\\'46\\',\\'46\\']\" data-responsive_offset=\"on\" data-textalign=\"[\\'left\\',\\'left\\',\\'left\\',\\'left\\']\" data-type=\"text\" data-voffset=\"[\\'435\\',\\'435\\',\\'435\\',\\'435\\',\\'330\\']\" data-whitespace=\"nowrap\" data-width=\"none\" data-x=\"[\\'left\\',\\'left\\',\\'left\\',\\'15\\',\\'0\\']\" data-y=\"[\\'top\\',\\'top\\',\\'top\\',\\'top\\']\" id=\"slide-1588-layer-3\"><br><a class=\"main_btn hvr-bounce-to-right\" href=\"ringless-voicemail-drop-platform.html\" rel=\"nofollow\">Need A Delivery Platform? Try Ringless Voicemail</a> </div>\\r\\n\\r\\n\\r\\n\\r\\n                    </div>\\r\\n                </div>\\r\\n                \\r\\n            </div>\\r\\n        </section>\\r\\n\\r\\n    <!--End our-team-area-->\\r\\n        \\r\\n\\r\\n        \\r\\n<!--================Footer Area =================-->\\r\\n\\r\\n<footer class=\"footer_area\">\\r\\n\\r\\n\\r\\n<div class=\"footer_copyright\">\\r\\n<div class=\"container-fluid\">\\r\\n<div class=\"footer_copyright_inner\">\\r\\n<div class=\"pull-right\">\\r\\n<p>Copyright &copy; 2008-2022 All rights reserved.</p>\\r\\n</div>\\r\\n\\r\\n<div class=\"pull-right\">\\r\\n\\r\\n</div>\\r\\n</div>\\r\\n</div>\\r\\n</div>\\r\\n</footer>\\r\\n       \\r\\n        \\r\\n<!-- Start js -->\\r\\n<script src=\"js/jquery-2.2.4.js\"></script>\\r\\n<script src=\"plugins/bootstrap/js/bootstrap.min.js\"></script>\\r\\n<script src=\"plugins/owl.carousel/owl.carousel.min.js\"></script>\\r\\n\\r\\n<script src=\"plugins/revolution/js/jquery.themepunch.tools.min.js\"></script>\\r\\n<script src=\"plugins/revolution/js/jquery.themepunch.revolution.min.js\"></script>\\r\\n<script src=\"plugins/revolution/js/extensions/revolution.extension.video.min.js\"></script>\\r\\n<script src=\"plugins/revolution/js/extensions/revolution.extension.slideanims.min.js\"></script>\\r\\n<script src=\"plugins/revolution/js/extensions/revolution.extension.layeranimation.min.js\"></script>\\r\\n<script src=\"plugins/revolution/js/extensions/revolution.extension.navigation.min.js\"></script>\\r\\n\\r\\n<!-- Start slider js -->\\r\\n<script src=\"js/nav.js\"></script>\\r\\n<!-- theme js -->\\r\\n<script src=\"js/theme.js\"></script>\\r\\n<!-- Start wow js -->\\r\\n<script src=\"js/wow.js\"></script>\\r\\n<!-- Start gallery js -->\\r\\n<script src=\"js/jquery.fancybox.pack.js\"></script>\\r\\n<script src=\"js/jquery.mixitup.min.js\"></script>\\r\\n<script src=\"js/isotope.js\"></script>\\r\\n<script src=\"js/gallery.js\"></script>\\r\\n\\r\\n\\r\\n</body>\\r\\n</html>'\n"
          ]
        }
      ]
    },
    {
      "cell_type": "code",
      "source": [],
      "metadata": {
        "id": "Z1mxFF-fv-yd"
      },
      "execution_count": null,
      "outputs": []
    }
  ]
}