{
  "nbformat": 4,
  "nbformat_minor": 0,
  "metadata": {
    "colab": {
      "provenance": [],
      "authorship_tag": "ABX9TyP9lB/Fw5qIeBcZepMKvjsy",
      "include_colab_link": true
    },
    "kernelspec": {
      "name": "python3",
      "display_name": "Python 3"
    },
    "language_info": {
      "name": "python"
    }
  },
  "cells": [
    {
      "cell_type": "markdown",
      "metadata": {
        "id": "view-in-github",
        "colab_type": "text"
      },
      "source": [
        "<a href=\"https://colab.research.google.com/github/KMVALLI/Python-for-datascienc-/blob/main/session_3_.ipynb\" target=\"_parent\"><img src=\"https://colab.research.google.com/assets/colab-badge.svg\" alt=\"Open In Colab\"/></a>"
      ]
    },
    {
      "cell_type": "markdown",
      "source": [
        "#slicing the data fro list"
      ],
      "metadata": {
        "id": "GsJQzrMs6e_R"
      }
    },
    {
      "cell_type": "code",
      "source": [
        "# this will be in list we are not discuses in yesterday \n",
        "\n",
        "list = [1,'s',2.5]\n",
        "list.append('d')\n",
        "list\n",
        "#it will add the end of the index valuies "
      ],
      "metadata": {
        "colab": {
          "base_uri": "https://localhost:8080/"
        },
        "id": "VzxJleB2J8E8",
        "outputId": "d761e44a-96e3-48b8-8a70-aa2d6ff2c5aa"
      },
      "execution_count": 73,
      "outputs": [
        {
          "output_type": "execute_result",
          "data": {
            "text/plain": [
              "[1, 's', 2.5, 'd']"
            ]
          },
          "metadata": {},
          "execution_count": 73
        }
      ]
    },
    {
      "cell_type": "code",
      "source": [
        "# hear we are attachiing the list ont a charecter so list will add to the above first list \n",
        "list.extend(['c','d'])\n",
        "list"
      ],
      "metadata": {
        "colab": {
          "base_uri": "https://localhost:8080/"
        },
        "id": "OrY2lFWHKjVL",
        "outputId": "edd575e1-1715-41e0-9d61-a05b895b9b5a"
      },
      "execution_count": 75,
      "outputs": [
        {
          "output_type": "execute_result",
          "data": {
            "text/plain": [
              "[1, 's', 2.5, 'd', 'c', 'd', 'c', 'd']"
            ]
          },
          "metadata": {},
          "execution_count": 75
        }
      ]
    },
    {
      "cell_type": "code",
      "source": [
        "#hear we are adding the value at 2nd index position\n",
        "list.insert(2,'k')\n",
        "list"
      ],
      "metadata": {
        "colab": {
          "base_uri": "https://localhost:8080/"
        },
        "id": "hZZTt95wKjEz",
        "outputId": "2efd70d8-2ff4-461d-f431-7d439efb710d"
      },
      "execution_count": 76,
      "outputs": [
        {
          "output_type": "execute_result",
          "data": {
            "text/plain": [
              "[1, 's', 'k', 2.5, 'd', 'c', 'd', 'c', 'd']"
            ]
          },
          "metadata": {},
          "execution_count": 76
        }
      ]
    },
    {
      "cell_type": "code",
      "source": [
        "#pop will remove last index value if you not pass a index value if you pass it will remove perticular value only ir will remove \n",
        "list.pop()\n",
        "list"
      ],
      "metadata": {
        "colab": {
          "base_uri": "https://localhost:8080/"
        },
        "id": "sPOPWY8cKiyp",
        "outputId": "d15a1b62-b8c5-4ca5-ea63-ae707ab92d3f"
      },
      "execution_count": 80,
      "outputs": [
        {
          "output_type": "execute_result",
          "data": {
            "text/plain": [
              "[1, 's', 'k', 2.5, 'd', 'c', 'd']"
            ]
          },
          "metadata": {},
          "execution_count": 80
        }
      ]
    },
    {
      "cell_type": "code",
      "source": [
        "list.pop(0)\n",
        "list"
      ],
      "metadata": {
        "colab": {
          "base_uri": "https://localhost:8080/"
        },
        "id": "Mg2CLqEkMrGu",
        "outputId": "4f4f4407-1669-43e2-db3e-f00162e441ed"
      },
      "execution_count": 82,
      "outputs": [
        {
          "output_type": "execute_result",
          "data": {
            "text/plain": [
              "['k', 2.5, 'd', 'c', 'd']"
            ]
          },
          "metadata": {},
          "execution_count": 82
        }
      ]
    },
    {
      "cell_type": "markdown",
      "source": [
        "#numbers"
      ],
      "metadata": {
        "id": "yTHhNoFKIUbR"
      }
    },
    {
      "cell_type": "code",
      "source": [
        " a = [1,5,8,96,41,686,697,54]"
      ],
      "metadata": {
        "id": "bM-GdkOZ4-o-"
      },
      "execution_count": 8,
      "outputs": []
    },
    {
      "cell_type": "code",
      "source": [
        "a[1:3]"
      ],
      "metadata": {
        "colab": {
          "base_uri": "https://localhost:8080/"
        },
        "id": "yakS2hGL6PKB",
        "outputId": "4fed4509-350d-4589-94b6-878d4b05007b"
      },
      "execution_count": 9,
      "outputs": [
        {
          "output_type": "execute_result",
          "data": {
            "text/plain": [
              "[5, 8]"
            ]
          },
          "metadata": {},
          "execution_count": 9
        }
      ]
    },
    {
      "cell_type": "code",
      "source": [
        "a[1:4] "
      ],
      "metadata": {
        "colab": {
          "base_uri": "https://localhost:8080/"
        },
        "id": "StaTeC664_E7",
        "outputId": "3be37872-74ff-437a-c974-21fe47b3c47c"
      },
      "execution_count": 10,
      "outputs": [
        {
          "output_type": "execute_result",
          "data": {
            "text/plain": [
              "[5, 8, 96]"
            ]
          },
          "metadata": {},
          "execution_count": 10
        }
      ]
    },
    {
      "cell_type": "code",
      "source": [
        "a[0:]"
      ],
      "metadata": {
        "colab": {
          "base_uri": "https://localhost:8080/"
        },
        "id": "rTvO4R8X4_H1",
        "outputId": "a0451e5a-62b2-49d0-ce32-0278b6800594"
      },
      "execution_count": 11,
      "outputs": [
        {
          "output_type": "execute_result",
          "data": {
            "text/plain": [
              "[1, 5, 8, 96, 41, 686, 697, 54]"
            ]
          },
          "metadata": {},
          "execution_count": 11
        }
      ]
    },
    {
      "cell_type": "code",
      "source": [
        "a[-5:-3]"
      ],
      "metadata": {
        "colab": {
          "base_uri": "https://localhost:8080/"
        },
        "id": "tMz-5UUF6aMa",
        "outputId": "d831e740-97ea-4953-cbfe-fbaaaa920c64"
      },
      "execution_count": 12,
      "outputs": [
        {
          "output_type": "execute_result",
          "data": {
            "text/plain": [
              "[96, 41]"
            ]
          },
          "metadata": {},
          "execution_count": 12
        }
      ]
    },
    {
      "cell_type": "code",
      "source": [
        "a[-4:-1]"
      ],
      "metadata": {
        "colab": {
          "base_uri": "https://localhost:8080/"
        },
        "id": "d0a8toRZ6_6n",
        "outputId": "69686704-2aa6-43eb-a46b-361858fe2e2f"
      },
      "execution_count": 13,
      "outputs": [
        {
          "output_type": "execute_result",
          "data": {
            "text/plain": [
              "[41, 686, 697]"
            ]
          },
          "metadata": {},
          "execution_count": 13
        }
      ]
    },
    {
      "cell_type": "code",
      "source": [
        "a[-4:]"
      ],
      "metadata": {
        "colab": {
          "base_uri": "https://localhost:8080/"
        },
        "id": "PqssDxla7Gzn",
        "outputId": "5f90a72a-d6d9-41d0-cc94-156089704188"
      },
      "execution_count": 14,
      "outputs": [
        {
          "output_type": "execute_result",
          "data": {
            "text/plain": [
              "[41, 686, 697, 54]"
            ]
          },
          "metadata": {},
          "execution_count": 14
        }
      ]
    },
    {
      "cell_type": "code",
      "source": [
        "c=a[3]+a[2]\n",
        "c\n"
      ],
      "metadata": {
        "colab": {
          "base_uri": "https://localhost:8080/"
        },
        "id": "b-0JICzb7NXv",
        "outputId": "052eb423-440a-41db-82f0-43b0ec49ec8b"
      },
      "execution_count": 16,
      "outputs": [
        {
          "output_type": "execute_result",
          "data": {
            "text/plain": [
              "104"
            ]
          },
          "metadata": {},
          "execution_count": 16
        }
      ]
    },
    {
      "cell_type": "code",
      "source": [
        "type(c)"
      ],
      "metadata": {
        "colab": {
          "base_uri": "https://localhost:8080/"
        },
        "id": "Ky9wcolY8arh",
        "outputId": "537a039e-227e-4127-aca0-a48e26ea84f5"
      },
      "execution_count": 20,
      "outputs": [
        {
          "output_type": "execute_result",
          "data": {
            "text/plain": [
              "int"
            ]
          },
          "metadata": {},
          "execution_count": 20
        }
      ]
    },
    {
      "cell_type": "code",
      "source": [
        "type(a)"
      ],
      "metadata": {
        "colab": {
          "base_uri": "https://localhost:8080/"
        },
        "id": "KF0wMo3l8fvR",
        "outputId": "dfcd9ae4-af47-4169-8306-62e65f443aff"
      },
      "execution_count": 21,
      "outputs": [
        {
          "output_type": "execute_result",
          "data": {
            "text/plain": [
              "list"
            ]
          },
          "metadata": {},
          "execution_count": 21
        }
      ]
    },
    {
      "cell_type": "code",
      "source": [
        "#it will give the total list will be in reverse if you put -2 it will start from -2 \n",
        "a[::-1]"
      ],
      "metadata": {
        "colab": {
          "base_uri": "https://localhost:8080/"
        },
        "id": "d2N7CfXX81Ky",
        "outputId": "69ef91bd-6a94-493c-e0fb-3da6825eb280"
      },
      "execution_count": 23,
      "outputs": [
        {
          "output_type": "execute_result",
          "data": {
            "text/plain": [
              "[54, 697, 686, 41, 96, 8, 5, 1]"
            ]
          },
          "metadata": {},
          "execution_count": 23
        }
      ]
    },
    {
      "cell_type": "markdown",
      "source": [
        "#strings"
      ],
      "metadata": {
        "id": "0JP_U3PaIbtF"
      }
    },
    {
      "cell_type": "code",
      "source": [
        "string1 = 'python'\n",
        "string1[2:7]"
      ],
      "metadata": {
        "colab": {
          "base_uri": "https://localhost:8080/",
          "height": 35
        },
        "id": "tI0qnczA9Csw",
        "outputId": "ac34dfad-a47d-4501-884d-bfded9855e1d"
      },
      "execution_count": 25,
      "outputs": [
        {
          "output_type": "execute_result",
          "data": {
            "text/plain": [
              "'thon'"
            ],
            "application/vnd.google.colaboratory.intrinsic+json": {
              "type": "string"
            }
          },
          "metadata": {},
          "execution_count": 25
        }
      ]
    },
    {
      "cell_type": "code",
      "source": [
        "string1[-4:]"
      ],
      "metadata": {
        "colab": {
          "base_uri": "https://localhost:8080/",
          "height": 35
        },
        "id": "mS-lre149zJi",
        "outputId": "837962c5-e8e5-4bd2-b656-27b3561282a1"
      },
      "execution_count": 26,
      "outputs": [
        {
          "output_type": "execute_result",
          "data": {
            "text/plain": [
              "'thon'"
            ],
            "application/vnd.google.colaboratory.intrinsic+json": {
              "type": "string"
            }
          },
          "metadata": {},
          "execution_count": 26
        }
      ]
    },
    {
      "cell_type": "markdown",
      "source": [
        "#sequence operation "
      ],
      "metadata": {
        "id": "TB5dxYsE-LWq"
      }
    },
    {
      "cell_type": "code",
      "source": [
        "#concatination\n",
        "'python'+'note'"
      ],
      "metadata": {
        "colab": {
          "base_uri": "https://localhost:8080/",
          "height": 35
        },
        "id": "zJZjyhhE-jKa",
        "outputId": "27ed24a0-e6fa-4cd8-b362-83810c5f405a"
      },
      "execution_count": 27,
      "outputs": [
        {
          "output_type": "execute_result",
          "data": {
            "text/plain": [
              "'pythonnote'"
            ],
            "application/vnd.google.colaboratory.intrinsic+json": {
              "type": "string"
            }
          },
          "metadata": {},
          "execution_count": 27
        }
      ]
    },
    {
      "cell_type": "code",
      "source": [
        "#Repetition\n",
        "'python'*2"
      ],
      "metadata": {
        "colab": {
          "base_uri": "https://localhost:8080/",
          "height": 35
        },
        "id": "D-0WxJP_-v3S",
        "outputId": "3113c8d5-f7fc-4de4-b822-dd8e215cc668"
      },
      "execution_count": 28,
      "outputs": [
        {
          "output_type": "execute_result",
          "data": {
            "text/plain": [
              "'pythonpython'"
            ],
            "application/vnd.google.colaboratory.intrinsic+json": {
              "type": "string"
            }
          },
          "metadata": {},
          "execution_count": 28
        }
      ]
    },
    {
      "cell_type": "code",
      "source": [
        "'pthon'**2"
      ],
      "metadata": {
        "colab": {
          "base_uri": "https://localhost:8080/",
          "height": 166
        },
        "id": "ZFsZkeZ5-3ki",
        "outputId": "e74ea7a5-0f4f-4135-a5f6-060c47a7f84d"
      },
      "execution_count": 30,
      "outputs": [
        {
          "output_type": "error",
          "ename": "TypeError",
          "evalue": "ignored",
          "traceback": [
            "\u001b[0;31m---------------------------------------------------------------------------\u001b[0m",
            "\u001b[0;31mTypeError\u001b[0m                                 Traceback (most recent call last)",
            "\u001b[0;32m<ipython-input-30-541f6d9c5543>\u001b[0m in \u001b[0;36m<module>\u001b[0;34m\u001b[0m\n\u001b[0;32m----> 1\u001b[0;31m \u001b[0;34m'pthon'\u001b[0m\u001b[0;34m**\u001b[0m\u001b[0;36m2\u001b[0m\u001b[0;34m\u001b[0m\u001b[0;34m\u001b[0m\u001b[0m\n\u001b[0m",
            "\u001b[0;31mTypeError\u001b[0m: unsupported operand type(s) for ** or pow(): 'str' and 'int'"
          ]
        }
      ]
    },
    {
      "cell_type": "markdown",
      "source": [
        "#specific methods"
      ],
      "metadata": {
        "id": "DfdxJq1O-9qy"
      }
    },
    {
      "cell_type": "code",
      "source": [
        "# it will give staring position \n",
        "#find the function it will give only teh index vslue not a string\n",
        "# \n",
        "str='masthan valli'\n",
        "\n",
        "str.find('valli')"
      ],
      "metadata": {
        "colab": {
          "base_uri": "https://localhost:8080/"
        },
        "id": "jmQ8rGobAQyF",
        "outputId": "4fd858e8-b1a6-48bc-8735-f0e0978d0db9"
      },
      "execution_count": 34,
      "outputs": [
        {
          "output_type": "execute_result",
          "data": {
            "text/plain": [
              "8"
            ]
          },
          "metadata": {},
          "execution_count": 34
        }
      ]
    },
    {
      "cell_type": "code",
      "source": [
        "#string is muatable why it willl be replace ?\n",
        "#ans this is run time allocation internally memory  allocate this will be different \n",
        "str.replace(\"valli\",\"dev\")"
      ],
      "metadata": {
        "colab": {
          "base_uri": "https://localhost:8080/",
          "height": 35
        },
        "id": "un4E44eIAYf9",
        "outputId": "62c64b3e-64d2-4da8-a21c-f712d20fd8b8"
      },
      "execution_count": 35,
      "outputs": [
        {
          "output_type": "execute_result",
          "data": {
            "text/plain": [
              "'masthan dev'"
            ],
            "application/vnd.google.colaboratory.intrinsic+json": {
              "type": "string"
            }
          },
          "metadata": {},
          "execution_count": 35
        }
      ]
    },
    {
      "cell_type": "code",
      "source": [
        "#base on , separator we ae spliting the  sytings remember it based on the coma becouse we are meniton in coma \n",
        "#we can give space also separator\n",
        "str= 'masthan ,valli ,dev,sana'\n",
        "str.split(\",\")"
      ],
      "metadata": {
        "colab": {
          "base_uri": "https://localhost:8080/"
        },
        "id": "B3grzwq-AzjH",
        "outputId": "018b47c8-17b1-4ca2-d61e-131ad20d4b7a"
      },
      "execution_count": 50,
      "outputs": [
        {
          "output_type": "execute_result",
          "data": {
            "text/plain": [
              "['masthan ', 'valli ', 'dev', 'sana']"
            ]
          },
          "metadata": {},
          "execution_count": 50
        }
      ]
    },
    {
      "cell_type": "code",
      "source": [
        "# hear we are searching the o value ang we gave thje value 2 is stating index and 6 is ending index \n",
        "#it will count how many o values are present and it will retrive \n",
        "str='python'\n",
        "str.count('o',2,6)"
      ],
      "metadata": {
        "colab": {
          "base_uri": "https://localhost:8080/"
        },
        "id": "IahH5IpuBA4f",
        "outputId": "c956f92e-e641-43ce-f5eb-c4ccad2b9127"
      },
      "execution_count": 66,
      "outputs": [
        {
          "output_type": "execute_result",
          "data": {
            "text/plain": [
              "1"
            ]
          },
          "metadata": {},
          "execution_count": 66
        }
      ]
    },
    {
      "cell_type": "code",
      "source": [
        "str.count('t')"
      ],
      "metadata": {
        "colab": {
          "base_uri": "https://localhost:8080/"
        },
        "id": "pxxG3u2KHOq7",
        "outputId": "a9166de3-3b57-4e46-9748-836c10888190"
      },
      "execution_count": 67,
      "outputs": [
        {
          "output_type": "execute_result",
          "data": {
            "text/plain": [
              "1"
            ]
          },
          "metadata": {},
          "execution_count": 67
        }
      ]
    },
    {
      "cell_type": "code",
      "source": [
        "str.upper()"
      ],
      "metadata": {
        "colab": {
          "base_uri": "https://localhost:8080/",
          "height": 35
        },
        "id": "4akP7mqDCY8K",
        "outputId": "694cba9b-fd28-4281-bce6-673d7dc63d18"
      },
      "execution_count": 56,
      "outputs": [
        {
          "output_type": "execute_result",
          "data": {
            "text/plain": [
              "'PYTHON'"
            ],
            "application/vnd.google.colaboratory.intrinsic+json": {
              "type": "string"
            }
          },
          "metadata": {},
          "execution_count": 56
        }
      ]
    },
    {
      "cell_type": "code",
      "source": [
        "# every charecter in python one number is assiened thst is asckey key \n",
        "max(str)"
      ],
      "metadata": {
        "colab": {
          "base_uri": "https://localhost:8080/",
          "height": 35
        },
        "id": "6zaFWQQ-E3ov",
        "outputId": "8844e196-b52e-4573-9f16-d51bc2e31ff1"
      },
      "execution_count": 61,
      "outputs": [
        {
          "output_type": "execute_result",
          "data": {
            "text/plain": [
              "'y'"
            ],
            "application/vnd.google.colaboratory.intrinsic+json": {
              "type": "string"
            }
          },
          "metadata": {},
          "execution_count": 61
        }
      ]
    },
    {
      "cell_type": "code",
      "source": [
        "min(str)"
      ],
      "metadata": {
        "colab": {
          "base_uri": "https://localhost:8080/",
          "height": 35
        },
        "id": "rcYTK0JYE9LU",
        "outputId": "703bfeb7-17fe-4ac2-a8ff-d5837ed3f469"
      },
      "execution_count": 62,
      "outputs": [
        {
          "output_type": "execute_result",
          "data": {
            "text/plain": [
              "'h'"
            ],
            "application/vnd.google.colaboratory.intrinsic+json": {
              "type": "string"
            }
          },
          "metadata": {},
          "execution_count": 62
        }
      ]
    },
    {
      "cell_type": "code",
      "source": [
        "#it will give true it contain only on alphabetic \n",
        "# we have isalnum also it will give numbers \n",
        "str.isalpha()\n"
      ],
      "metadata": {
        "colab": {
          "base_uri": "https://localhost:8080/"
        },
        "id": "w2ZalJ7wFEfM",
        "outputId": "f74bfb8a-3b9d-403e-fa34-5690d6c3cce1"
      },
      "execution_count": 65,
      "outputs": [
        {
          "output_type": "execute_result",
          "data": {
            "text/plain": [
              "True"
            ]
          },
          "metadata": {},
          "execution_count": 65
        }
      ]
    },
    {
      "cell_type": "markdown",
      "source": [
        "\n",
        "#Tuple"
      ],
      "metadata": {
        "id": "G0Z5ROSSFKK9"
      }
    },
    {
      "cell_type": "code",
      "source": [
        "#A tuple is a sequence of immutable python objects like floting number string literal\n",
        "#the truple con't be changr unlike list\n",
        "#truple is defined with curve braces () "
      ],
      "metadata": {
        "id": "w5lhWL4sIo0-"
      },
      "execution_count": 68,
      "outputs": []
    },
    {
      "cell_type": "code",
      "source": [
        "#slicing as a tuple same as a list only differnt is crule brases \n",
        "# but only thing is list is changable becouse it is mutable\n",
        "#so if you want to without change use tuple "
      ],
      "metadata": {
        "id": "v-b6HkEmJJYw"
      },
      "execution_count": 69,
      "outputs": []
    },
    {
      "cell_type": "code",
      "source": [
        "tuple = ('a','b','c','d')"
      ],
      "metadata": {
        "id": "GfO49JRxM8c-"
      },
      "execution_count": 83,
      "outputs": []
    },
    {
      "cell_type": "code",
      "source": [
        "# if  you want be slice the value use must [] squre bracts\n",
        "tff=tuple[1:4]\n",
        "tuple \n",
        "# so if you observe the touple is immuatable so if tou see the tuple the same value is avalable it won't change the value but taking the another variable from that we are changing the value soit will change but original valus still remains same\n"
      ],
      "metadata": {
        "colab": {
          "base_uri": "https://localhost:8080/"
        },
        "id": "_fmYMmByNI7P",
        "outputId": "df755218-f639-42bb-b088-1106a8ff5ad7"
      },
      "execution_count": 84,
      "outputs": [
        {
          "output_type": "execute_result",
          "data": {
            "text/plain": [
              "('a', 'b', 'c', 'd')"
            ]
          },
          "metadata": {},
          "execution_count": 84
        }
      ]
    },
    {
      "cell_type": "code",
      "source": [
        "#delleting the two values using two funtion \n",
        "#but touple does not have pop function by using list we can delete \n",
        "#list have but it is not possible to delete the two values in pop it only delete single vaule only "
      ],
      "metadata": {
        "id": "j-c-EOgpOOrY"
      },
      "execution_count": null,
      "outputs": []
    },
    {
      "cell_type": "code",
      "source": [],
      "metadata": {
        "id": "vekg_SzDOwEx"
      },
      "execution_count": null,
      "outputs": []
    },
    {
      "cell_type": "code",
      "source": [
        "#it will store values and string "
      ],
      "metadata": {
        "id": "pZI8cGEPPrDL"
      },
      "execution_count": null,
      "outputs": []
    },
    {
      "cell_type": "markdown",
      "source": [
        "#Dictionaries"
      ],
      "metadata": {
        "id": "aQTvWuu-JvTL"
      }
    },
    {
      "cell_type": "code",
      "source": [
        "#this is the most flexible built in data type in pythhin \n",
        "#it will store in both vaue and key \n",
        "#it will indicates as a flower brackets\n",
        "# and heare we dont haave index value  "
      ],
      "metadata": {
        "id": "Y0AptjpvQDTK"
      },
      "execution_count": 121,
      "outputs": []
    },
    {
      "cell_type": "code",
      "source": [
        "#empty dictionsry\n",
        "myDict ={}"
      ],
      "metadata": {
        "id": "dNFlH_e4Qieg"
      },
      "execution_count": 122,
      "outputs": []
    },
    {
      "cell_type": "code",
      "source": [
        "#dictionary with integer keys\n",
        "myDict = {1:'apple',2:'ball'}\n",
        "myDict"
      ],
      "metadata": {
        "colab": {
          "base_uri": "https://localhost:8080/"
        },
        "id": "3YoIKGA6Qovp",
        "outputId": "e67a217b-89a4-4605-cbb6-00d629ff3780"
      },
      "execution_count": 123,
      "outputs": [
        {
          "output_type": "execute_result",
          "data": {
            "text/plain": [
              "{1: 'apple', 2: 'ball'}"
            ]
          },
          "metadata": {},
          "execution_count": 123
        }
      ]
    },
    {
      "cell_type": "code",
      "source": [
        "#dicitonary with mixed key  and we can pass list also and pass truple also and assifen variables also \n",
        "# but must bea an key \n",
        "dictionary ={'name':'masthan',1:'valli' , 2:[2,5,8]}\n"
      ],
      "metadata": {
        "id": "eu8Xo4DTQ2di"
      },
      "execution_count": 124,
      "outputs": []
    },
    {
      "cell_type": "code",
      "source": [
        "#from srquence having the each item as a pair\n",
        "# truple --> list --> dictionart \n",
        "myDict = dict([(1,'apple'),(2,'ball')])"
      ],
      "metadata": {
        "id": "te7PnvXGRiuG"
      },
      "execution_count": 125,
      "outputs": []
    },
    {
      "cell_type": "markdown",
      "source": [
        "#Dictionary methods"
      ],
      "metadata": {
        "id": "aljmJkbGTmwL"
      }
    },
    {
      "cell_type": "code",
      "source": [
        "#hear we are calling the key value in the form of key\n",
        "a\n",
        "#ande we are using the [] \n",
        "myDict[1]\n",
        "#index are start from 0 "
      ],
      "metadata": {
        "colab": {
          "base_uri": "https://localhost:8080/",
          "height": 35
        },
        "id": "FtWT8r-yTzlC",
        "outputId": "d4f37f12-7fde-4854-e4f9-ee13314ac388"
      },
      "execution_count": 126,
      "outputs": [
        {
          "output_type": "execute_result",
          "data": {
            "text/plain": [
              "'apple'"
            ],
            "application/vnd.google.colaboratory.intrinsic+json": {
              "type": "string"
            }
          },
          "metadata": {},
          "execution_count": 126
        }
      ]
    },
    {
      "cell_type": "code",
      "source": [
        "#if you want to use index you need to use additional function that is get \n",
        "myDict.get(0)"
      ],
      "metadata": {
        "id": "gMiqs9aqZqED"
      },
      "execution_count": 135,
      "outputs": []
    },
    {
      "cell_type": "code",
      "source": [
        "#fined the length of the  dictionary i meen howmany values are avalable in this \n",
        "len(myDict)"
      ],
      "metadata": {
        "colab": {
          "base_uri": "https://localhost:8080/"
        },
        "id": "DnqcM4NmT2VV",
        "outputId": "dfe9aeb9-30f9-4081-ffdd-f09238eb6689"
      },
      "execution_count": 127,
      "outputs": [
        {
          "output_type": "execute_result",
          "data": {
            "text/plain": [
              "2"
            ]
          },
          "metadata": {},
          "execution_count": 127
        }
      ]
    },
    {
      "cell_type": "code",
      "source": [
        "#checking the tems\n",
        "myDict.items()\n"
      ],
      "metadata": {
        "colab": {
          "base_uri": "https://localhost:8080/"
        },
        "id": "wLRK3ozFXiir",
        "outputId": "72755933-08fb-486b-d0ee-2dee43489d04"
      },
      "execution_count": 128,
      "outputs": [
        {
          "output_type": "execute_result",
          "data": {
            "text/plain": [
              "dict_items([(1, 'apple'), (2, 'ball')])"
            ]
          },
          "metadata": {},
          "execution_count": 128
        }
      ]
    },
    {
      "cell_type": "code",
      "source": [
        "#checking the perticular key what value is assigened \n",
        "myDict.get(2)"
      ],
      "metadata": {
        "colab": {
          "base_uri": "https://localhost:8080/",
          "height": 35
        },
        "id": "K25sODRKXiUD",
        "outputId": "f292d4ba-7346-4cf3-addc-3c4604be5ddb"
      },
      "execution_count": 129,
      "outputs": [
        {
          "output_type": "execute_result",
          "data": {
            "text/plain": [
              "'ball'"
            ],
            "application/vnd.google.colaboratory.intrinsic+json": {
              "type": "string"
            }
          },
          "metadata": {},
          "execution_count": 129
        }
      ]
    },
    {
      "cell_type": "code",
      "source": [
        "#adding the value and key\n",
        "# we are sending the vLUE AND JEY IN THE FORM OF DICTIONARY BY ISING THE FUNCION OR METHOD \n",
        "#FUNCTION AND METHOND ARE ALWAS () \n",
        "myDict.update({3:'g'})\n",
        "myDict"
      ],
      "metadata": {
        "colab": {
          "base_uri": "https://localhost:8080/"
        },
        "id": "ruIlN18KXiGx",
        "outputId": "ae30c4de-a2aa-482f-9c75-a085f053bb68"
      },
      "execution_count": 130,
      "outputs": [
        {
          "output_type": "execute_result",
          "data": {
            "text/plain": [
              "{1: 'apple', 2: 'ball', 3: 'g'}"
            ]
          },
          "metadata": {},
          "execution_count": 130
        }
      ]
    },
    {
      "cell_type": "code",
      "source": [
        "\n",
        "#with help of the pop wea are removing the values and keys \n",
        "myDict.pop(2)"
      ],
      "metadata": {
        "colab": {
          "base_uri": "https://localhost:8080/",
          "height": 35
        },
        "id": "frEyoRGnYalg",
        "outputId": "56e6b52a-c098-411f-e30c-21af3bb73cba"
      },
      "execution_count": 131,
      "outputs": [
        {
          "output_type": "execute_result",
          "data": {
            "text/plain": [
              "'ball'"
            ],
            "application/vnd.google.colaboratory.intrinsic+json": {
              "type": "string"
            }
          },
          "metadata": {},
          "execution_count": 131
        }
      ]
    },
    {
      "cell_type": "code",
      "source": [
        "#to find the how many keys are avalable in dicitionary \n",
        "myDict.keys()"
      ],
      "metadata": {
        "colab": {
          "base_uri": "https://localhost:8080/"
        },
        "id": "14k60cU7Uh7m",
        "outputId": "16226e6f-4a60-4f80-ef41-000ff11c6d02"
      },
      "execution_count": 132,
      "outputs": [
        {
          "output_type": "execute_result",
          "data": {
            "text/plain": [
              "dict_keys([1, 3])"
            ]
          },
          "metadata": {},
          "execution_count": 132
        }
      ]
    },
    {
      "cell_type": "code",
      "source": [
        "#finding the how many values in dictionary\n",
        "myDict.values()"
      ],
      "metadata": {
        "colab": {
          "base_uri": "https://localhost:8080/"
        },
        "id": "1fctU-8ZUzxy",
        "outputId": "682a0178-35f4-4f13-ceb1-9c09b02d1923"
      },
      "execution_count": 101,
      "outputs": [
        {
          "output_type": "execute_result",
          "data": {
            "text/plain": [
              "dict_values(['apple', 'ball'])"
            ]
          },
          "metadata": {},
          "execution_count": 101
        }
      ]
    },
    {
      "cell_type": "markdown",
      "source": [
        "#sets"
      ],
      "metadata": {
        "id": "zcZh7zbrVAeH"
      }
    },
    {
      "cell_type": "code",
      "source": [
        "#set is unorder collection of the items \n",
        "#every element is a uniqe and no duplicates it must be immutable it meen it can not change\n",
        "#it is also use flower brackets {}"
      ],
      "metadata": {
        "id": "fCkBDNSMViRo"
      },
      "execution_count": 103,
      "outputs": []
    },
    {
      "cell_type": "markdown",
      "source": [
        "#sets methods "
      ],
      "metadata": {
        "id": "eNeLLlcYV-Xx"
      }
    },
    {
      "cell_type": "code",
      "source": [
        "#creating set\n",
        "mySet =  {1,2,3}"
      ],
      "metadata": {
        "id": "E4vothGdWDWo"
      },
      "execution_count": 105,
      "outputs": []
    },
    {
      "cell_type": "code",
      "source": [
        "#union\n",
        "myS1 ={1,2,'c'}\n",
        "myS2 = {1,'b','c'}\n",
        "myS1|myS2"
      ],
      "metadata": {
        "colab": {
          "base_uri": "https://localhost:8080/"
        },
        "id": "fo9j5rAhWQIq",
        "outputId": "3415a3bd-1d9e-4c1f-ab1d-d3ce969e78b5"
      },
      "execution_count": 107,
      "outputs": [
        {
          "output_type": "execute_result",
          "data": {
            "text/plain": [
              "{1, 2, 'b', 'c'}"
            ]
          },
          "metadata": {},
          "execution_count": 107
        }
      ]
    },
    {
      "cell_type": "code",
      "source": [
        "#intersection\n",
        "myS1 ={1,2,'c'}\n",
        "myS2 ={1,'b','c'}\n",
        "myS1&myS2"
      ],
      "metadata": {
        "colab": {
          "base_uri": "https://localhost:8080/"
        },
        "id": "OD0eZriYWgPJ",
        "outputId": "cf6e9f74-5425-4651-a7dc-ac3d212acd2b"
      },
      "execution_count": 108,
      "outputs": [
        {
          "output_type": "execute_result",
          "data": {
            "text/plain": [
              "{1, 'c'}"
            ]
          },
          "metadata": {},
          "execution_count": 108
        }
      ]
    },
    {
      "cell_type": "code",
      "source": [
        "#difference\n",
        "myS1-myS2"
      ],
      "metadata": {
        "colab": {
          "base_uri": "https://localhost:8080/"
        },
        "id": "3DdKXmsAXBHi",
        "outputId": "6f49ab17-d0b8-4a58-dd58-0a656cf974ce"
      },
      "execution_count": 109,
      "outputs": [
        {
          "output_type": "execute_result",
          "data": {
            "text/plain": [
              "{2}"
            ]
          },
          "metadata": {},
          "execution_count": 109
        }
      ]
    },
    {
      "cell_type": "code",
      "source": [],
      "metadata": {
        "id": "j99EcECHXE-y"
      },
      "execution_count": null,
      "outputs": []
    }
  ]
}